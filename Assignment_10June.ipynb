{
 "cells": [
  {
   "cell_type": "markdown",
   "metadata": {},
   "source": [
    "# 1. In Python, what is the difference between a built-in function and a user-defined function? Provide an example of each."
   ]
  },
  {
   "cell_type": "markdown",
   "metadata": {},
   "source": [
    "# built-in function \n",
    "This is a function inside the tool which cant be changed ro customized according to the user requirements.\n",
    "it covers a wide range of task and saves time.\n",
    "Ex: sum(),len(),max() etc\n",
    "\n",
    "# User defined function\n",
    "User-defined functions are functions created by the programmer to perform specific tasks,it is performed by def function and a block of code as required."
   ]
  },
  {
   "cell_type": "code",
   "execution_count": 6,
   "metadata": {},
   "outputs": [
    {
     "name": "stdout",
     "output_type": "stream",
     "text": [
      "Built- in func: 882\n"
     ]
    },
    {
     "data": {
      "text/plain": [
       "'user defined function : 882'"
      ]
     },
     "execution_count": 6,
     "metadata": {},
     "output_type": "execute_result"
    }
   ],
   "source": [
    "#built in function\n",
    "numbers=[1,52,6,63,585,4,75,96]\n",
    "total=sum(numbers)\n",
    "print(\"Built- in func:\",total) # without iterating through all the elements this gives us the sum of the numbers\n",
    "\n",
    "#user defined\n",
    "\n",
    "def summ(num):\n",
    "    count=0\n",
    "    for i in num:\n",
    "        count+=i \n",
    "    return f\"user defined function : {count}\"\n",
    "\n",
    "\n",
    "summ(numbers)\n"
   ]
  },
  {
   "cell_type": "markdown",
   "metadata": {},
   "source": [
    "# 2. How can you pass arguments to a function in Python? Explain the difference between positional arguments and keyword arguments."
   ]
  },
  {
   "cell_type": "code",
   "execution_count": 7,
   "metadata": {},
   "outputs": [
    {
     "data": {
      "text/plain": [
       "'Hello virat, welcome to ineuron'"
      ]
     },
     "execution_count": 7,
     "metadata": {},
     "output_type": "execute_result"
    }
   ],
   "source": [
    "def greet(name): #passing the arguments in function as name\n",
    "    return f\"Hello {name}, welcome to ineuron\" # returning a statement as the positional argument, this is a positional argument\n",
    "\n",
    "greet(\"virat\")"
   ]
  },
  {
   "cell_type": "code",
   "execution_count": 18,
   "metadata": {},
   "outputs": [
    {
     "name": "stdout",
     "output_type": "stream",
     "text": [
      "directily giving keywords:  Hi! Abhishek.You have choosen X1,BMW\n",
      "OR\n",
      " keywords in the arguments:  Hi! Abhishek.You have choosen X1,BMW\n"
     ]
    }
   ],
   "source": [
    "# this is a keyword argument function(arg1,arg2)\n",
    "def car(name,model,company=\"BMW\"):\n",
    "    return f\"Hi! {name}.You have choosen {model},{company}\"\n",
    "\n",
    "Customer_name= \"Abhishek\"  #storing the name in the keyword\n",
    "car_model=\"X1\"\n",
    "\n",
    "print(\"directily giving keywords: \",car(Customer_name,car_model))# the keyword argument can be passed as this or the below one\n",
    "print(\"OR\")\n",
    "print(\" keywords in the arguments: \",car(name=Customer_name,model=car_model))"
   ]
  },
  {
   "cell_type": "markdown",
   "metadata": {},
   "source": [
    " # 3. What is the purpose of the return statement in a function? Can a function have multiple return .statements? Explain with an example.\n",
    "    return function serves the purpose of sending a value back to the caller of the function, this ends the block code execution and gives the output\n",
    "    Yes, a function can have multiple staement but not in the same line of code.\n",
    "    "
   ]
  },
  {
   "cell_type": "code",
   "execution_count": 20,
   "metadata": {},
   "outputs": [
    {
     "data": {
      "text/plain": [
       "'The Max number is: 90'"
      ]
     },
     "execution_count": 20,
     "metadata": {},
     "output_type": "execute_result"
    }
   ],
   "source": [
    "#Ex: of return stament\n",
    "def max_num(a,b):\n",
    "    if a>b: # checking the condition if a is grater than be\n",
    "        return f\"The Max number is: {a}\"  # 1st return stament \n",
    "    else:\n",
    "        return f\"The Max number is: {b}\" # 2nd return statement, if a is not greater the b is greater\n",
    "    \n",
    "max_num(50,90)"
   ]
  },
  {
   "cell_type": "markdown",
   "metadata": {},
   "source": [
    "## 4. What are lambda functions in Python? How are they different from regular functions? Provide an example where a lambda function can be useful.\n",
    "\n",
    "Lambda functions are anonymous,they don't have a name(nameless), as in regular def function argument should be given a name.\n",
    "lamda are usefull and are inline or single line of code where as regular are block of code."
   ]
  },
  {
   "cell_type": "code",
   "execution_count": 41,
   "metadata": {},
   "outputs": [
    {
     "name": "stdout",
     "output_type": "stream",
     "text": [
      "regular function : 15\n",
      "lambda function: [1, 25, 36, 9]\n"
     ]
    }
   ],
   "source": [
    "\n",
    "array=[1,5,6,3]\n",
    "# regular function\n",
    "def summ(num):\n",
    "    count=0\n",
    "    for i in num:\n",
    "        count+=i \n",
    "    return f\"regular function : {count}\"\n",
    "\n",
    "print(summ(array))\n",
    "\n",
    "lamda_func=lambda x:[i**2 for i in array]\n",
    "print(\"lambda function:\" ,lamda_func(array))"
   ]
  },
  {
   "cell_type": "markdown",
   "metadata": {},
   "source": [
    "# 5. How does the concept of \"scope\" apply to functions in Python? Explain the difference between local scope and global scope.\n",
    "\"scope\" refers to the region of a program where a variable is accessible or where it can be used. "
   ]
  },
  {
   "cell_type": "code",
   "execution_count": 44,
   "metadata": {},
   "outputs": [
    {
     "data": {
      "text/plain": [
       "('Example using global scope', 15)"
      ]
     },
     "execution_count": 44,
     "metadata": {},
     "output_type": "execute_result"
    }
   ],
   "source": [
    "x=10\n",
    "def global_var():\n",
    "    #global x  # calling the value of x which is putside the function\n",
    "    return \"Example using global scope\",5 + x \n",
    "\n",
    "global_var() # here it takes x as a global scope as it outside the function,still it takes the value of x"
   ]
  },
  {
   "cell_type": "markdown",
   "metadata": {},
   "source": []
  },
  {
   "cell_type": "code",
   "execution_count": 50,
   "metadata": {},
   "outputs": [
    {
     "name": "stdout",
     "output_type": "stream",
     "text": [
      "local scope: 100\n"
     ]
    }
   ],
   "source": [
    "y=10 # global scope \n",
    "def local():\n",
    "    x=10 # local scope only for this specific block of code\n",
    "    return f\"local scope: {x*y}\" # using both local and global scopes \n",
    "print(local())"
   ]
  },
  {
   "cell_type": "markdown",
   "metadata": {},
   "source": [
    "# 6. How can you use the \"return\" statement in a Python function to return multiple values?\n",
    "this can be explained by fibonnaci serires example"
   ]
  },
  {
   "cell_type": "code",
   "execution_count": 72,
   "metadata": {},
   "outputs": [
    {
     "data": {
      "text/plain": [
       "(10, 6, 4)"
      ]
     },
     "execution_count": 72,
     "metadata": {},
     "output_type": "execute_result"
    }
   ],
   "source": [
    "def returns(n,m,c):\n",
    "    #return f\"First return value: {n*2} ,second: {m*3} , thrid: {c*4}\" \n",
    "    return n*2,m*2,c*2 #returnong the muktiple value at same time\n",
    "\n",
    "returns(5,3,2)"
   ]
  },
  {
   "cell_type": "markdown",
   "metadata": {},
   "source": [
    "# 7. What is the difference between the \"pass by value\" and \"pass by reference\" concepts when it comes to function arguments in Python?\n",
    "Pass by value: passing the same value to be incremented\n",
    "pass by reference: passing the refered value in a specific index"
   ]
  },
  {
   "cell_type": "code",
   "execution_count": 82,
   "metadata": {},
   "outputs": [
    {
     "name": "stdout",
     "output_type": "stream",
     "text": [
      "pass by value example: 10\n",
      "Pass by reference example:  [45]\n"
     ]
    }
   ],
   "source": [
    "#pass by value\n",
    "def increment(n):\n",
    "    n+=5\n",
    "    return n\n",
    "\n",
    "print(\"pass by value example:\",increment(5))\n",
    "\n",
    "def mylist():\n",
    "    m=[] # initalling empty list\n",
    "    ref=m.append(45) # passing a value at the last index of the list\n",
    "    return m\n",
    "\n",
    "print(\"Pass by reference example: \",mylist())"
   ]
  },
  {
   "cell_type": "code",
   "execution_count": 84,
   "metadata": {},
   "outputs": [
    {
     "data": {
      "text/plain": [
       "'log: 1.6094379124341003, expo: 148.4131591025766, power base 2: 32, square: 25'"
      ]
     },
     "execution_count": 84,
     "metadata": {},
     "output_type": "execute_result"
    }
   ],
   "source": [
    "import math # library to execute mathematical operations\n",
    "\n",
    "def func(x):\n",
    "    log=math.log(x) # mathematical operation of log of x\n",
    "    expo=math.exp(x) #mathematical operation of e power x\n",
    "    power=2**x\n",
    "    square=x*x \n",
    "    return f\"log: {log}, expo: {expo}, power base 2: {power}, square: {square}\"\n",
    "\n",
    "func(5)"
   ]
  },
  {
   "cell_type": "code",
   "execution_count": 91,
   "metadata": {},
   "outputs": [
    {
     "data": {
      "text/plain": [
       "'first name: abhishek, lastname: gujjar'"
      ]
     },
     "execution_count": 91,
     "metadata": {},
     "output_type": "execute_result"
    }
   ],
   "source": [
    "def name_func(name):\n",
    "    ref=name.split() # splits the variable into single words in a list value\n",
    "    firstname=ref[0]\n",
    "    lastname=ref[1]\n",
    "    return f\"first name: {firstname}, lastname: {lastname}\"\n",
    "\n",
    "name=\"abhishek gujjar\" \n",
    "name_func(name)\n"
   ]
  },
  {
   "cell_type": "code",
   "execution_count": 89,
   "metadata": {},
   "outputs": [
    {
     "data": {
      "text/plain": [
       "'abhishek'"
      ]
     },
     "execution_count": 89,
     "metadata": {},
     "output_type": "execute_result"
    }
   ],
   "source": [
    "sp=name.split()\n",
    "sp[0]"
   ]
  },
  {
   "cell_type": "code",
   "execution_count": null,
   "metadata": {},
   "outputs": [],
   "source": []
  }
 ],
 "metadata": {
  "kernelspec": {
   "display_name": "base",
   "language": "python",
   "name": "python3"
  },
  "language_info": {
   "codemirror_mode": {
    "name": "ipython",
    "version": 3
   },
   "file_extension": ".py",
   "mimetype": "text/x-python",
   "name": "python",
   "nbconvert_exporter": "python",
   "pygments_lexer": "ipython3",
   "version": "3.10.9"
  },
  "orig_nbformat": 4
 },
 "nbformat": 4,
 "nbformat_minor": 2
}
