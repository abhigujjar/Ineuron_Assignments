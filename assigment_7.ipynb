{
 "cells": [
  {
   "cell_type": "code",
   "execution_count": null,
   "metadata": {},
   "outputs": [],
   "source": []
  },
  {
   "cell_type": "markdown",
   "metadata": {},
   "source": [
    "# Q.1. Create two int type variables, apply addition, subtraction, division and multiplications and store the results in variables. Then print the data in the following format by calling the variables:"
   ]
  },
  {
   "cell_type": "code",
   "execution_count": 3,
   "metadata": {},
   "outputs": [
    {
     "name": "stdout",
     "output_type": "stream",
     "text": [
      "Addition: 5 + 5 = 10\n",
      "substraction: 5 - 5 = 0\n",
      "multiplication: 5 * 5 = 25\n",
      "division: 5 / 5 = 1.0\n"
     ]
    }
   ],
   "source": [
    "# entering variables by the user and the converting it into integer value, any specific data type can be given as float str etc as requirements\n",
    "first=int(input(\"Enter the first variable\")) \n",
    "second=int(input(\"Enter the second variable\"))\n",
    "\n",
    "addtion=first+second\n",
    "substraction=first-second\n",
    "multiplication=first*second\n",
    "division=first/second\n",
    "\n",
    "print(f\"Addition: {first} + {second} = {addtion}\")\n",
    "print(f\"substraction: {first} - {second} = {substraction}\")\n",
    "print(f\"multiplication: {first} * {second} = {multiplication}\")\n",
    "print(f\"division: {first} / {second} = {division}\")\n"
   ]
  },
  {
   "cell_type": "markdown",
   "metadata": {},
   "source": [
    "# Q.2. What is the difference between the following operators:\n",
    "\n",
    "\"/\" ==> this is a regular division operator which gives output as float values, returns the whole exact value\n",
    "\"//\" ==> this is a integer division operator which gives output as int values, returns the the value before decimal point\n",
    "\n",
    "\"^\" ==> this is a XOR operator which performs binary operations and gives the output\n",
    "\"**\" ==> this is a power or exponential operation which gives the exponent value"
   ]
  },
  {
   "cell_type": "code",
   "execution_count": 8,
   "metadata": {},
   "outputs": [
    {
     "name": "stdout",
     "output_type": "stream",
     "text": [
      "/ ==> example:  3.3333333333333335\n",
      "// ==> example:  3\n"
     ]
    }
   ],
   "source": [
    "print(\"/ ==> example: \",10/3)\n",
    "print(\"// ==> example: \",10//3)"
   ]
  },
  {
   "cell_type": "code",
   "execution_count": 15,
   "metadata": {},
   "outputs": [
    {
     "name": "stdout",
     "output_type": "stream",
     "text": [
      "XOR example==>  15\n",
      "exponential value:  25\n"
     ]
    }
   ],
   "source": [
    "print(\"XOR example==> \",5^10)\n",
    "''' 5 in binary    0    1   0   1\n",
    "         XOR \n",
    "    10 in binary   1    0   1   0\n",
    "                   ______________\n",
    "                   1    1   1   1 ==> after conversion it is 15 \n",
    "'''\n",
    "    \n",
    "print(\"exponential value: \",5**2)"
   ]
  },
  {
   "cell_type": "markdown",
   "metadata": {},
   "source": [
    "# Q.3. List the logical operators."
   ]
  },
  {
   "cell_type": "markdown",
   "metadata": {},
   "source": [
    " # AND operator \n",
    "   True and True ==> True\n",
    "\n",
    "   True and False ==> False\n",
    "\n",
    "   False and True ==> False\n",
    "\n",
    "   False and False ==> False\n",
    "\n",
    "   # OR operator \n",
    "   True or True ==> True \n",
    "\n",
    "   True or False==> False\n",
    "\n",
    "   False or False ==> False\n",
    "\n",
    "   False or True --> False\n",
    "\n",
    "   # NOT operator\n",
    "    not True ==> False\n",
    "\n",
    "   # XOR operator\n",
    "   True XOR True   -> False\n",
    "\n",
    "   True XOR False  -> True\n",
    "\n",
    "   False XOR True  -> True\n",
    "   \n",
    "   False XOR False -> False\n"
   ]
  },
  {
   "cell_type": "markdown",
   "metadata": {},
   "source": [
    "## Q.4. Explain right shift operator and left shift operator with examples. \n",
    "\n",
    "# Right shift\n",
    "  '>>' is the right  shift operator, this shifts the binary number to the right at given position\n",
    "  10 >> 2 this represents that right shift to 2 positional values\n",
    "  4 digits in binary deleting the last 2 right digits and adding zeros at the left.\n",
    "\n",
    "# Left shift\n",
    "\"<<\" is left shift operator, this shifts the binary numbers to the left at given number of position\n",
    "10 << 2, this represents that left shift to 2 positional values\n",
    "4 digits in binary,adding zero to the last 2 digits and removing none.\n",
    "\n"
   ]
  },
  {
   "cell_type": "code",
   "execution_count": 23,
   "metadata": {},
   "outputs": [
    {
     "name": "stdout",
     "output_type": "stream",
     "text": [
      "right shift:  2\n",
      "left shift:  40\n",
      "Shifts\n"
     ]
    }
   ],
   "source": [
    "right=10>>2\n",
    "print(\"right shift: \",right)\n",
    "'''\n",
    "10 in binary 1  0   1   0\n",
    "right shift  0  0   1   0 ==> 2 is output \n",
    "\n",
    "'''\n",
    "\n",
    "left=10<<2\n",
    "print(\"left shift: \",left)\n",
    "'''\n",
    "10 in binary 1  0   1   0 \n",
    "left shift   1  0   1   0   0   0 ==> 40 is the outout\n",
    "'''\n",
    "\n",
    "print(\"Shifts\")"
   ]
  },
  {
   "cell_type": "markdown",
   "metadata": {},
   "source": [
    "# Q.5. Create a list containing int type data of length 15. Then write a code to check if 10 is present in the list or not."
   ]
  },
  {
   "cell_type": "code",
   "execution_count": 29,
   "metadata": {},
   "outputs": [
    {
     "name": "stdout",
     "output_type": "stream",
     "text": [
      "lenght of list:  15\n",
      "The 10 is not present\n"
     ]
    }
   ],
   "source": [
    "\n",
    "my_list=[1,2,3,4,5,6,7,8,9,25,11,12,13,14,15] \n",
    "print(\"lenght of list: \",len(my_list)) #gives lenght the list \n",
    "\n",
    "number=10 # can be user input using input()\n",
    "\n",
    "if number in my_list: # condition where it checks number is present in data\n",
    "    print(f\"The {number} is present\") \n",
    "else:\n",
    "    print(f\"The {number} is not present\") # if not present the gives this statement\n"
   ]
  },
  {
   "cell_type": "code",
   "execution_count": 27,
   "metadata": {},
   "outputs": [
    {
     "data": {
      "text/plain": [
       "15"
      ]
     },
     "execution_count": 27,
     "metadata": {},
     "output_type": "execute_result"
    }
   ],
   "source": [
    "len(my_list)"
   ]
  },
  {
   "cell_type": "code",
   "execution_count": null,
   "metadata": {},
   "outputs": [],
   "source": []
  }
 ],
 "metadata": {
  "kernelspec": {
   "display_name": "base",
   "language": "python",
   "name": "python3"
  },
  "language_info": {
   "codemirror_mode": {
    "name": "ipython",
    "version": 3
   },
   "file_extension": ".py",
   "mimetype": "text/x-python",
   "name": "python",
   "nbconvert_exporter": "python",
   "pygments_lexer": "ipython3",
   "version": "3.10.9"
  },
  "orig_nbformat": 4
 },
 "nbformat": 4,
 "nbformat_minor": 2
}
