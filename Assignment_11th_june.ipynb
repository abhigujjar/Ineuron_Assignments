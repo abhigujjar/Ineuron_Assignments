{
 "cells": [
  {
   "cell_type": "markdown",
   "metadata": {},
   "source": [
    "# 1. What is a lambda function in Python, and how does it differ from a regular function?"
   ]
  },
  {
   "cell_type": "markdown",
   "metadata": {},
   "source": [
    "Lambda functions are anonymous,they don't have a name(nameless), as in regular def function argument should be given a name.\n",
    "lamda are usefull and are inline or single line of code where as regular are block of code."
   ]
  },
  {
   "cell_type": "code",
   "execution_count": 97,
   "metadata": {},
   "outputs": [
    {
     "name": "stdout",
     "output_type": "stream",
     "text": [
      "lambda function:  7\n",
      "regular function:  10\n"
     ]
    }
   ],
   "source": [
    "#lambda function\n",
    "addition=           lambda x:            x+2\n",
    " #^                  ^                   ^ \n",
    "# function name     argument variable    return function\n",
    "addition(5)\n",
    "\n",
    "\n",
    "#regular function\n",
    "def add(x):  # defining function name and argument \n",
    "    return x+2  # return block of code\n",
    "\n",
    "print(\"lambda function: \",addition(5))\n",
    "print(\"regular function: \",add(8))"
   ]
  },
  {
   "cell_type": "markdown",
   "metadata": {},
   "source": [
    "# 2. Can a lambda function in Python have multiple arguments? If yes, how can you define and use them?\n",
    "\n",
    "Yes, lambda can use multiple arguments.\n",
    "\n"
   ]
  },
  {
   "cell_type": "code",
   "execution_count": 98,
   "metadata": {},
   "outputs": [
    {
     "data": {
      "text/plain": [
       "[0, 30, 60, 90, 120]"
      ]
     },
     "execution_count": 98,
     "metadata": {},
     "output_type": "execute_result"
    }
   ],
   "source": [
    "# lambda using multiple arguments\n",
    "mul=lambda x , y:[x*y*i for i in range(5)]\n",
    "# multiple arguments as x and y and another argument in form of range function and combining them\n",
    "mul(5,6) "
   ]
  },
  {
   "cell_type": "markdown",
   "metadata": {},
   "source": [
    "# How are lambda functions typically used in Python? Provide an example use case.\n",
    "Lambda functions are used for small and qucik def operation.\n",
    "it denoted as  \"lambda\" \n"
   ]
  },
  {
   "cell_type": "code",
   "execution_count": 10,
   "metadata": {},
   "outputs": [
    {
     "data": {
      "text/plain": [
       "[{'model': 'Redmi 11s', 'price': 20000},\n",
       " {'model': 'one plues CE', 'price': 30000},\n",
       " {'model': 'Samsuung S 23', 'price': 40000},\n",
       " {'model': 'iphone 11', 'price': 60000}]"
      ]
     },
     "execution_count": 10,
     "metadata": {},
     "output_type": "execute_result"
    }
   ],
   "source": [
    "#lambda function\n",
    "products=[{\"model\":\"Samsuung S 23\",\"price\":40000},\n",
    "          {\"model\":\"iphone 11\",\"price\":60000},\n",
    "          {\"model\":\"Redmi 11s\",\"price\":20000},\n",
    "          {\"model\":\"one plues CE\",\"price\":30000}]\n",
    "sorted_products=sorted(products,key=lambda x:x[\"price\"]) # this functions sorts the product according to their price\n",
    "                                                        # sorted is a in built function ,by default it sorts in assending order, for decending \"reverse=True\"\n",
    "sorted_products"
   ]
  },
  {
   "cell_type": "markdown",
   "metadata": {},
   "source": [
    "# 4. What are the advantages and limitations of lambda functions compared to regular functions in Python?\n",
    "# Advantages\n",
    "i) Brief line of code: lambda allows a single line code simple and clean,precise \n",
    "\n",
    "ii)No definig names as in regular functions\n",
    "\n",
    "iii) simple and time saving if the use of code is for one time\n",
    " \n",
    "# Disadvantages\n",
    "i) cant use complex code in lambda functions\n",
    "\n",
    "ii) limited used cases \n",
    "\n",
    "iii) debugging issues: if any debug may occur we cant use Exception handling functions (try and except)\n",
    "\n"
   ]
  },
  {
   "cell_type": "markdown",
   "metadata": {},
   "source": []
  },
  {
   "cell_type": "markdown",
   "metadata": {},
   "source": [
    "# 5. Are lambda functions in Python able to access variables defined outside of their own scope? Explain with an example.\n",
    "Yes,lambda functions in Python able to access variables defined outside of their own scope."
   ]
  },
  {
   "cell_type": "code",
   "execution_count": 14,
   "metadata": {},
   "outputs": [
    {
     "name": "stdout",
     "output_type": "stream",
     "text": [
      "calling scope [5, 10, 15, 20, 25]\n"
     ]
    }
   ],
   "source": [
    "# lambda functions in Python able to access variables defined outside of their own scope example\n",
    "arrays=[1,2,3,4,5] # an simple array # outside scope\n",
    "lamb=lambda x:[x*i for i in arrays]  # lambda function calling array variable inside the function\n",
    "print(\"calling scope\", lamb(5))"
   ]
  },
  {
   "cell_type": "markdown",
   "metadata": {},
   "source": [
    "# 6. Write a lambda function to calculate the square of a given number."
   ]
  },
  {
   "cell_type": "code",
   "execution_count": 99,
   "metadata": {},
   "outputs": [
    {
     "name": "stdout",
     "output_type": "stream",
     "text": [
      "lambda function  square of a given number is: 25\n"
     ]
    }
   ],
   "source": [
    "square=lambda x:x**2\n",
    "print(f\"lambda function  square of a given number is: {square(5)}\")"
   ]
  },
  {
   "cell_type": "markdown",
   "metadata": {},
   "source": [
    "# 7. Create a lambda function to find the maximum value in a list of integers."
   ]
  },
  {
   "cell_type": "code",
   "execution_count": 100,
   "metadata": {},
   "outputs": [
    {
     "name": "stdout",
     "output_type": "stream",
     "text": [
      "max of the given list: 12250\n"
     ]
    }
   ],
   "source": [
    "# max of a list\n",
    "my_list=[45,65,2,6,9,585,12,536,125,458,12250,552,1555,9958] # a random list \n",
    "max_list=lambda x: max(x)  # lambda function with max function\n",
    "print(f\"max of the given list: {max_list(my_list)}\")"
   ]
  },
  {
   "cell_type": "markdown",
   "metadata": {},
   "source": [
    "# 8. Implement a lambda function to filter out all the even numbers from a list of integers.\n",
    "\n"
   ]
  },
  {
   "cell_type": "code",
   "execution_count": 101,
   "metadata": {},
   "outputs": [
    {
     "data": {
      "text/plain": [
       "[0, 2, 4, 6, 8, 10, 12, 14, 16, 18, 20, 22, 24, 26, 28]"
      ]
     },
     "execution_count": 101,
     "metadata": {},
     "output_type": "execute_result"
    }
   ],
   "source": [
    "# even numbers\n",
    "even = lambda x:[i for i in range(x) if i%2==0 ]\n",
    "\n",
    "even(30)"
   ]
  },
  {
   "cell_type": "markdown",
   "metadata": {},
   "source": [
    "# Write a lambda function to sort a list of strings in ascending order based on the length of each string."
   ]
  },
  {
   "cell_type": "code",
   "execution_count": 25,
   "metadata": {},
   "outputs": [],
   "source": [
    "# lambda function to sort a list of strings in ascending order \n",
    "line= \"Data science is not just about data, it is about using data to create value\"\n",
    "sentence=line.split() #splitiong the word and making it a list of stings"
   ]
  },
  {
   "cell_type": "code",
   "execution_count": 38,
   "metadata": {},
   "outputs": [
    {
     "name": "stdout",
     "output_type": "stream",
     "text": [
      "Sorted strings in sending order: ['is', 'it', 'is', 'to', 'not', 'Data', 'just', 'data', 'about', 'data,', 'about', 'using', 'value', 'create', 'science']\n",
      "Data : 4 science : 7 is : 2 not : 3 just : 4 about : 5 data, : 5 it : 2 is : 2 about : 5 using : 5 data : 4 to : 2 create : 6 value : 5 "
     ]
    }
   ],
   "source": [
    "sorted_string=sorted(sentence,key=lambda x:len(x))       #lambda function loooking for the sort the string with respect to their length\n",
    "print(f\"Sorted strings in sending order: {sorted_string}\")\n",
    "\n",
    "#just to verify \n",
    "for i in sentence:\n",
    "    print(i,\":\",len(i),end=\" \")"
   ]
  },
  {
   "cell_type": "markdown",
   "metadata": {},
   "source": [
    "# 10. Create a lambda function that takes two lists as input and returns a new list containing the common elements between the two lists.\n"
   ]
  },
  {
   "cell_type": "code",
   "execution_count": 102,
   "metadata": {},
   "outputs": [
    {
     "name": "stdout",
     "output_type": "stream",
     "text": [
      "[2, 4, 6, 8, 16]\n"
     ]
    }
   ],
   "source": [
    "a=[1,2,3,4,5,6,7,8,9,16] # sample list a\n",
    "b=[2,4,6,8,10,12,16,14] #saple list b common elements(2,4,6,8,16)\n",
    "c=[] #empty list to  return the new list\n",
    "for i in a: #iterating each element\n",
    "    if i in b: # if condition that i element is present in b or not if True it will append to new list c\n",
    "        c.append(i) # addingg the common elements to new list\n",
    "print(c) #reutrn the new list with common elements"
   ]
  },
  {
   "cell_type": "markdown",
   "metadata": {},
   "source": [
    "# 11. Write a recursive function to calculate the factorial of a given positive integer."
   ]
  },
  {
   "cell_type": "code",
   "execution_count": 58,
   "metadata": {},
   "outputs": [],
   "source": [
    "# factorial \n",
    "def factorial(n):\n",
    "    if n<0: # checking for negative inputs to avoid errors\n",
    "        return \"Please input a positive number\"\n",
    "    elif n==0 or n==1: # base condition as factorial of 1 and 0 is 1\n",
    "        return 1 \n",
    "    else:\n",
    "        return n*factorial(n-1) #recursive function \n",
    "    \n",
    "    '''\n",
    "    n=3\n",
    "    1st 2 conditions not satisfied \n",
    "    else part: \n",
    "    3*factorial(2)\n",
    "    this again calls the function factorial and iterates until the base condition is satitified\n",
    "    '''"
   ]
  },
  {
   "cell_type": "code",
   "execution_count": 62,
   "metadata": {},
   "outputs": [
    {
     "name": "stdout",
     "output_type": "stream",
     "text": [
      "negative input: Please input a positive number\n",
      "Factorial : 120 \n"
     ]
    }
   ],
   "source": [
    "print(\"negative input:\", factorial(-5))\n",
    "print(f\"Factorial : {factorial(5)} \")"
   ]
  },
  {
   "cell_type": "markdown",
   "metadata": {},
   "source": [
    "# 12. Implement a recursive function to compute the nth Fibonacci number.\n"
   ]
  },
  {
   "cell_type": "code",
   "execution_count": 73,
   "metadata": {},
   "outputs": [],
   "source": [
    "def fibb(n):\n",
    "    if n<=1: # base condition \n",
    "        return n \n",
    "    else:\n",
    "        return fibb(n-1)+fibb(n-2) #recursive condition \n",
    "    \n",
    "    \"\"\"\n",
    "    n=4\n",
    "    4th number  \n",
    "    1st number =0\n",
    "    2nd number=1  # both are base conditions\n",
    "    3rd number 0+1=1\n",
    "    4th number= 0+1+2=3\n",
    "    \"\"\"\n"
   ]
  },
  {
   "cell_type": "code",
   "execution_count": 75,
   "metadata": {},
   "outputs": [
    {
     "data": {
      "text/plain": [
       "3"
      ]
     },
     "execution_count": 75,
     "metadata": {},
     "output_type": "execute_result"
    }
   ],
   "source": [
    "fibb(4)"
   ]
  },
  {
   "cell_type": "markdown",
   "metadata": {},
   "source": [
    "# 13. Create a recursive function to find the sum of all the elements in a given list."
   ]
  },
  {
   "cell_type": "code",
   "execution_count": 103,
   "metadata": {},
   "outputs": [
    {
     "name": "stdout",
     "output_type": "stream",
     "text": [
      "The sum of elements in the list is: 15\n"
     ]
    },
    {
     "data": {
      "text/plain": [
       "'\\narray is input\\n1st element is recorded and rest of the array is saved as new array and the function is called recursively until base condition\\n\\n'"
      ]
     },
     "execution_count": 103,
     "metadata": {},
     "output_type": "execute_result"
    }
   ],
   "source": [
    "def recursive_sum(arr):\n",
    "    if not arr:\n",
    "        return 0  # Base case: empty list, so the sum is 0\n",
    "    else:\n",
    "        return arr[0] + recursive_sum(arr[1:])  # Recursive case: add the first element and sum of the rest of the elements\n",
    "\n",
    "\n",
    "my_list = [1, 2, 3, 4, 5]\n",
    "print(f\"The sum of elements in the list is: {recursive_sum(my_list)}\")\n",
    "\n",
    "'''\n",
    "array is input\n",
    "1st element is recorded and rest of the array is saved as new array and the function is called recursively until base condition\n",
    "\n",
    "'''\n"
   ]
  },
  {
   "cell_type": "markdown",
   "metadata": {},
   "source": [
    "# 14. Write a recursive function to determine whether a given string is a palindrome."
   ]
  },
  {
   "cell_type": "code",
   "execution_count": 85,
   "metadata": {},
   "outputs": [],
   "source": [
    "def palindrome(string):\n",
    "    if string[:]==string[::-1]:  # indexing the string and checking if it is equal to reverse order of the same string -1 is to check in reverse order\n",
    "        return \"hooray its a palindrome\"\n",
    "    else:\n",
    "        return \"oops not a plaindrome\""
   ]
  },
  {
   "cell_type": "code",
   "execution_count": 86,
   "metadata": {},
   "outputs": [
    {
     "data": {
      "text/plain": [
       "'hooray its a palindrome'"
      ]
     },
     "execution_count": 86,
     "metadata": {},
     "output_type": "execute_result"
    }
   ],
   "source": [
    "word=\"mom\"\n",
    "palindrome(word)"
   ]
  },
  {
   "cell_type": "markdown",
   "metadata": {},
   "source": [
    "# 15. Implement a recursive function to find the greatest common divisor (GCD) of two positive integers."
   ]
  },
  {
   "cell_type": "code",
   "execution_count": 96,
   "metadata": {},
   "outputs": [
    {
     "name": "stdout",
     "output_type": "stream",
     "text": [
      "greatest common factor is : 6\n"
     ]
    },
    {
     "data": {
      "text/plain": [
       "'\\n\\ngcd(15,25)\\nafter factorizing 15%25 is 15\\ngcd(25,15) \\nafter dividing 15%10 is 5\\ngcd(15,5) \\nafter dividing 15%5 is 0\\ngcd(5,0) \\nbase condition b is 0 so it is 5 \\nso the greatest common factor is 5 \\n\\n\\n'"
      ]
     },
     "execution_count": 96,
     "metadata": {},
     "output_type": "execute_result"
    }
   ],
   "source": [
    "def gcd(a,b):\n",
    "    if b==0: #base condition as b is 0, a itselt becomes a greatest common divisor\n",
    "        return a \n",
    "    else:\n",
    "        return gcd(b,a%b) #recursive function swaping b and remainder of a and b\n",
    "    \n",
    "print(\"greatest common factor is :\", gcd(12,18))\n",
    "\n",
    "'''\n",
    "\n",
    "gcd(15,25)\n",
    "after factorizing 15%25 is 15\n",
    "gcd(25,15) \n",
    "after dividing 15%10 is 5\n",
    "gcd(15,5) \n",
    "after dividing 15%5 is 0\n",
    "gcd(5,0) \n",
    "base condition b is 0 so it is 5 \n",
    "so the greatest common factor is 5 \n",
    "\n",
    "\n",
    "'''"
   ]
  },
  {
   "cell_type": "code",
   "execution_count": null,
   "metadata": {},
   "outputs": [],
   "source": []
  },
  {
   "cell_type": "code",
   "execution_count": null,
   "metadata": {},
   "outputs": [],
   "source": []
  }
 ],
 "metadata": {
  "kernelspec": {
   "display_name": "base",
   "language": "python",
   "name": "python3"
  },
  "language_info": {
   "codemirror_mode": {
    "name": "ipython",
    "version": 3
   },
   "file_extension": ".py",
   "mimetype": "text/x-python",
   "name": "python",
   "nbconvert_exporter": "python",
   "pygments_lexer": "ipython3",
   "version": "3.10.9"
  },
  "orig_nbformat": 4
 },
 "nbformat": 4,
 "nbformat_minor": 2
}
