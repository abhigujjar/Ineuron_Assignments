{
 "cells": [
  {
   "cell_type": "markdown",
   "metadata": {},
   "source": [
    "## 1.What are the two values of the Boolean data type? How do you write them? \n",
    "     Boolean data types are True and False. Writen as True and False.\n",
    "\n",
    "\n",
    "## 2. What are the three different types of Boolean operators?\n",
    "     The different types of Boolean operators are \n",
    "# i) AND operator \n",
    "     It returns True if both the inputs are True, else it will return false.(if one operand is False is will return False)\n",
    "     '&' is the AND operator\n",
    "# ii) OR operator \n",
    "          if both the operand are False it will return False otherwise True.\n",
    "          '|'  'or' is the operator\n",
    "\n",
    "# iii) NOT operator\n",
    "         It return the opposite of  the boolean values. True is the input returns False.\n",
    "         '!' is the operator\n",
    "\n",
    "## 3. Make a list of each Boolean operator&#39;s truth tables.\n",
    "   # AND operator truth tables\n",
    "   True and True ==> True\n",
    "   True and False ==> False\n",
    "   False and True ==> False\n",
    "   False and False ==> False\n",
    "\n",
    "   # OR operator \n",
    "   True or True ==> True \n",
    "   True or False==> False\n",
    "   False or False ==> False\n",
    "   False or True --> False\n",
    "\n",
    "   # NOT operator\n",
    "    not True ==> False\n",
    "\n",
    "\n",
    "## 4. What are the values of the following expressions?\n",
    " i)  (5 > 4) and (3 == 5) ==> True and False==> False\n",
    "\n",
    " ii) not (5 > 4) ==> not True ==> False\n",
    "\n",
    " iii) (5 > 4) or (3 == 5) ==> True or False ==> False\n",
    "\n",
    " iv)  not ((5 > 4) or (3 == 5)) ==> not (True or False) ==> not False ==> True\n",
    "\n",
    " v)  (True and True) and (True == False) ==> True and False ==> False\n",
    " \n",
    " vi) (not False) or (not True) ==> True or False ==> False\n",
    "\n",
    "\n",
    "## 5. What are the six comparison operators?\n",
    "# The six comparison operators are: \n",
    "# i) Equal to ( == )\n",
    "       Checks LHS and RHS are Equal\n",
    "       Ex : if 5 == 5: (if True)\n",
    "               print(\"Hello\")   \n",
    "               o/p ==> True, \"Hello\"\n",
    "\n",
    "# ii) not Equal to ( != )\n",
    "        Checks either LHS or RHS is not Equal\n",
    "        Ex: if 5 == 55: (if True)\n",
    "               print(\"Hello\")   \n",
    "               o/p ==> True, \"Hello\"\n",
    "\n",
    "# iii) Greater than ( > )\n",
    "       checks if LHS is Greater than RHS\n",
    "       Ex: if 15 > 5: (if True)\n",
    "               print(\"Hello\")   \n",
    "               o/p ==> True, \"Hello\" \n",
    "    \n",
    "# iv) Less than ( < )\n",
    "    checks if LHS is Less than RHS\n",
    "       Ex: if 2 < 5: (if True)\n",
    "               print(\"Hello\")   \n",
    "               o/p ==> True, \"Hello\"\n",
    "\n",
    "# v) Greater than or Equal to ( >= )\n",
    "     checks if LHS is Greater than  or Equal to RHS\n",
    "       Ex: if 6 >= 5: (if True)\n",
    "               print(\"Hello\")   \n",
    "               o/p ==> True, \"Hello\"\n",
    "               \n",
    "# vi) Less than or Equal to (< ==)\n",
    "     checks if LHS is Less than or Equal to RHS\n",
    "       Ex: if 5 <= 5: (if True)\n",
    "               print(\"Hello\")   \n",
    "               o/p ==> True, \"Hello\"\n",
    "\n",
    "## 6. How do you tell the difference between the equal to and assignment operators?Describe a condition and when you would use one.\n",
    "# Equal to ( == ) \n",
    "     if 5 == 5: (# if True)  # checking the condition where the LHS is Equal to RHS\n",
    "          print(\"Hello\")\n",
    "\n",
    "# assignment operator ( = )\n",
    "     number = int(input(\"Enter the num  \"))   # assignment operator-- assigning the number input but the programmer.\n",
    "     if number == 5: (if True)  <== Equal to \n",
    "            print(\"Hello\")\n",
    "\n",
    "## 7.Identify the three blocks in this code:\n",
    "# Block 1 (assignment) \n",
    "   spam = 0  # assigned variable spam as 0  \n",
    "# Block 2: Checking the condition \n",
    "if spam == 10: # Checking if Spam is Equal to given value, if True the it prints \"eggs\"\n",
    "    print(\"eggs\")\n",
    "if spam > 5:   # Checking if Spam is Greater than given value, if True the it prints \"Bacon\"\n",
    "    print(\"bacon\")\n",
    "# Block 3: if None of above condition satisfy this block iterates \n",
    "else:             # if Either conditions above are False, the else part is iterate and OP as \"ham\" \\ \"spam\" \\ \"spam\"\n",
    "    print(\"ham\")\n",
    "    print(\"spam\")\n",
    "    print(\"Spam\")\n",
    "\n",
    "\n",
    "\n",
    "## 9.If your programme is stuck in an endless loop, what keys you’ll press?\n",
    "     Keys \n",
    "     Interupt (Double times I ) : Interupts the execution and stops\n",
    "     Restart (Double times 0 0): Clears the output in jupiter notebook\n",
    "\n",
    "     Stop: many python IDE have the stop button when a loop is endless.\n",
    "\n",
    "## 11. In a for loop, what is the difference between range(10), range(0, 10), and range(0, 10, 1)?\n",
    "      range(10) ==> This the numbers in the range of 10, only end point is given, mandatory it takes start as 0.\n",
    "      range(0,10) ==>  This the numbers in the range of 10 starting from 0. range(start,end)\n",
    "      range(0,10,1) ==> This the numbers in the range of 10 starting from 0 in a step size of 1. range(start,end,step)\n",
    "\n",
    "      In this case,the output of the all 3 range are same.\n",
    "\n",
    "\n",
    "## 13. If you had a function named bacon() inside a module named spam, how would you call it after importing spam?\n",
    "       The function can be called by \n",
    "       spam.bacon()\n",
    "\n",
    "       or \n",
    "\n",
    "       from spam import bacon \n",
    "        or \n",
    "\n",
    "    import spam \n",
    "    spam.bacon() \n",
    "\n",
    "\n",
    "\n",
    "\n",
    "\n",
    "\n",
    "\n",
    "\n",
    "\n",
    "\n",
    "\n",
    "\n"
   ]
  },
  {
   "cell_type": "markdown",
   "metadata": {},
   "source": [
    "## 8. Write code that prints Hello if 1 is stored in spam, prints Howdy if 2 is stored in spam,Greetings! if anything else is stored in spam.\n"
   ]
  },
  {
   "cell_type": "code",
   "execution_count": null,
   "metadata": {},
   "outputs": [],
   "source": [
    "Spam = int(input(\"Enter the num  \"))   # assignment operator\n",
    "if Spam == 1:\n",
    "    print(\"HELLO\")\n",
    "elif Spam == 2:\n",
    "    print(\"Howdy !\")\n",
    "else: \n",
    "    print(\" Greeeting ! \")"
   ]
  },
  {
   "cell_type": "markdown",
   "metadata": {},
   "source": [
    "## 10. How can you tell the difference between break and continue? \n",
    "# break : \n",
    "      This is a statement used to immediately terminate the condition and execute code after the break.\n",
    "      irrespective of the condition is still True.\n",
    "      This is useful when the block of code may run endless.\n",
    "     Ex: "
   ]
  },
  {
   "cell_type": "code",
   "execution_count": null,
   "metadata": {},
   "outputs": [],
   "source": [
    "for i in range(10):\n",
    "    if i == 5: # checks the condition, when the i value is 5 it breaks the loop and exits.\n",
    "        break \n",
    "    print(i) "
   ]
  },
  {
   "cell_type": "markdown",
   "metadata": {},
   "source": [
    "# continue :\n",
    "This is a statement used to eliminate the current condition and move on the condition until it is True.\n",
    "This is useful when the block of code is expexted to have an error and developer needs to continue. \n",
    "Ex :"
   ]
  },
  {
   "cell_type": "code",
   "execution_count": null,
   "metadata": {},
   "outputs": [],
   "source": [
    "for i in range(10):\n",
    "    if i == 5: # checks the condition \n",
    "        continue #if the condition is True, it skips and continues the next iteration i:e i=6. Until the loop range ends.\n",
    "    print(i) "
   ]
  },
  {
   "cell_type": "markdown",
   "metadata": {},
   "source": [
    "## 12. Write a short program that prints the numbers 1 to 10 using a for loop. Then write an equivalent program that prints the numbers 1 to 10 using a while loop."
   ]
  },
  {
   "cell_type": "markdown",
   "metadata": {},
   "source": [
    "# for loop"
   ]
  },
  {
   "cell_type": "code",
   "execution_count": null,
   "metadata": {},
   "outputs": [],
   "source": [
    "for i in range(10): #10 is exclusive so start from 0 and end at 9\n",
    "    print(i)  \n",
    "   \n",
    "for i in range(1,11): # range start from 1 and end 10, exclusive of 11.\n",
    "    print(i) "
   ]
  },
  {
   "cell_type": "markdown",
   "metadata": {},
   "source": [
    "# While loop: \n"
   ]
  },
  {
   "cell_type": "code",
   "execution_count": null,
   "metadata": {},
   "outputs": [],
   "source": [
    "i=0 #this takes start as 0,initial value\n",
    "while i<=10: # while this condition is true it will iterate and gives the output\n",
    "    print(i) \n",
    "    i+=1 #incremental value which adds 1 after every iteration"
   ]
  }
 ],
 "metadata": {
  "kernelspec": {
   "display_name": "base",
   "language": "python",
   "name": "python3"
  },
  "language_info": {
   "codemirror_mode": {
    "name": "ipython",
    "version": 3
   },
   "file_extension": ".py",
   "mimetype": "text/x-python",
   "name": "python",
   "nbconvert_exporter": "python",
   "pygments_lexer": "ipython3",
   "version": "3.10.9"
  },
  "orig_nbformat": 4
 },
 "nbformat": 4,
 "nbformat_minor": 2
}
