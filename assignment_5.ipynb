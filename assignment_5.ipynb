{
 "cells": [
  {
   "cell_type": "markdown",
   "metadata": {},
   "source": [
    "# 1. What does an empty dictionary&#39;s code look like?\n",
    "Empty dictionary : my_dict=  { }\n",
    "\n",
    "# 2. What is the value of a dictionary value with the key 'foo' and the value 42?\n"
   ]
  },
  {
   "cell_type": "code",
   "execution_count": 3,
   "metadata": {},
   "outputs": [
    {
     "name": "stdout",
     "output_type": "stream",
     "text": [
      "value of key foo  42\n"
     ]
    }
   ],
   "source": [
    "my_dict={'foo':42}\n",
    "print(\"value of key foo \",my_dict['foo'])"
   ]
  },
  {
   "cell_type": "markdown",
   "metadata": {},
   "source": [
    "# 3. What is the most significant distinction between a dictionary and a list?\n",
    "The significant difference is: \n",
    "\n",
    "i) list are ordered items,dictionaries are unordered.\n",
    "\n",
    "ii) list has index values,dict has key:value pairs.\n",
    "\n",
    "iii) to get an item in particular index,list[index] is called, in dict we have to call key to obtain the value. dict['foo']\n",
    "\n",
    "iv) list are easy to store data, dictionary is easier.\n",
    "\n",
    "# 4. What happens if you try to access spam['foo'] if spam is {'bar': 100}?\n",
    "Key error occurs as the key 'foo' is not present in dict spam."
   ]
  },
  {
   "cell_type": "code",
   "execution_count": 4,
   "metadata": {},
   "outputs": [
    {
     "ename": "KeyError",
     "evalue": "'foo'",
     "output_type": "error",
     "traceback": [
      "\u001b[1;31m---------------------------------------------------------------------------\u001b[0m",
      "\u001b[1;31mKeyError\u001b[0m                                  Traceback (most recent call last)",
      "Cell \u001b[1;32mIn[4], line 2\u001b[0m\n\u001b[0;32m      1\u001b[0m spam\u001b[39m=\u001b[39m{\u001b[39m'\u001b[39m\u001b[39mbar\u001b[39m\u001b[39m'\u001b[39m:\u001b[39m100\u001b[39m}\n\u001b[1;32m----> 2\u001b[0m spam[\u001b[39m'\u001b[39;49m\u001b[39mfoo\u001b[39;49m\u001b[39m'\u001b[39;49m]\n",
      "\u001b[1;31mKeyError\u001b[0m: 'foo'"
     ]
    }
   ],
   "source": [
    "spam={'bar':100}\n",
    "spam['foo'] # keyerror is found"
   ]
  },
  {
   "cell_type": "markdown",
   "metadata": {},
   "source": [
    "# 5. If a dictionary is stored in spam, what is the difference between the expressions 'cat' in spam and 'cat' in spam.keys()?\n",
    "\n",
    "# 6. If a dictionary is stored in spam, what is the difference between the expressions 'cat' in spam and 'cat' in spam.values()?\n"
   ]
  },
  {
   "cell_type": "code",
   "execution_count": 7,
   "metadata": {},
   "outputs": [
    {
     "name": "stdout",
     "output_type": "stream",
     "text": [
      "True\n",
      "True\n",
      "False\n"
     ]
    }
   ],
   "source": [
    "# solution for 5 and 6\n",
    "spam={'dog':'bark','cat':'meow'}\n",
    "\n",
    "print('cat' in spam) # checks if term 'cat' in key:value pairs, if true returns boolean True or false\n",
    "print('cat' in spam.keys()) #checks if term 'cat' in keys of spam. if true returns true.\n",
    "print('cat' in spam.values()) #checks if term 'cat' in values of spam,if true returns true or else false"
   ]
  },
  {
   "cell_type": "markdown",
   "metadata": {},
   "source": [
    "## 7. What is a shortcut for the following code?\n",
    "if 'color' not in spam:\n",
    "\n",
    "    spam['color']='black'\n",
    "    \n",
    "this checks if the key is present in spam or not, if not it gives the key 'color' a value as 'black'"
   ]
  },
  {
   "cell_type": "code",
   "execution_count": 8,
   "metadata": {},
   "outputs": [
    {
     "name": "stdout",
     "output_type": "stream",
     "text": [
      "{'dog': 'bark', 'cat': 'meow', 'color': 'black'}\n"
     ]
    }
   ],
   "source": [
    "if 'color' not in spam:\n",
    "    spam['color']='black'\n",
    "\n",
    "print(spam)"
   ]
  },
  {
   "cell_type": "markdown",
   "metadata": {},
   "source": [
    "# 8. How do you 'pretty print' dictionary values using which module and function? \n",
    "imprting the module pprint (pretty print)\n",
    "calling pprint from  module pprint. \n",
    "pprint.pprint(my_dict)\n",
    "The pprint module and pprint function provides to get output of complex data structures in a more readable and organized manner. Especially in nested dictionaries.\n"
   ]
  },
  {
   "cell_type": "code",
   "execution_count": 10,
   "metadata": {},
   "outputs": [
    {
     "name": "stdout",
     "output_type": "stream",
     "text": [
      "{'Name': 'Abhi',\n",
      " 'course': 'data science',\n",
      " 'skills': {'SQL': '***', 'python': '****'}}\n"
     ]
    }
   ],
   "source": [
    "import pprint\n",
    "\n",
    "my_dict={'Name':'Abhi','course':'data science','skills':{'python': '****','SQL':'***'}}\n",
    "pprint.pprint(my_dict)"
   ]
  }
 ],
 "metadata": {
  "kernelspec": {
   "display_name": "base",
   "language": "python",
   "name": "python3"
  },
  "language_info": {
   "codemirror_mode": {
    "name": "ipython",
    "version": 3
   },
   "file_extension": ".py",
   "mimetype": "text/x-python",
   "name": "python",
   "nbconvert_exporter": "python",
   "pygments_lexer": "ipython3",
   "version": "3.10.9"
  },
  "orig_nbformat": 4
 },
 "nbformat": 4,
 "nbformat_minor": 2
}
