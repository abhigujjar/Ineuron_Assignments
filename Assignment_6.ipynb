{
 "cells": [
  {
   "cell_type": "markdown",
   "metadata": {},
   "source": [
    "# Q.1. What are keywords in python? Using the keyword library, print all the python keywords.\n",
    "# Definition: \n",
    "Keywords in Python are reserved words that cannot be used as ordinary identifiers. They are used to define the syntax and structure of the Python language.\n",
    "List of Keywords: The complete list of Python keywords are: \n",
    "# False, None, True, and, as, assert, async, await, break, class, continue, def, del, elif, else, except, finally, for, from, global, if, import, in, is, lambda, nonlocal, not, or, pass, raise, return, try, while, with, yield."
   ]
  },
  {
   "cell_type": "code",
   "execution_count": 1,
   "metadata": {},
   "outputs": [
    {
     "name": "stdout",
     "output_type": "stream",
     "text": [
      "['False', 'None', 'True', 'and', 'as', 'assert', 'async', 'await', 'break', 'class', 'continue', 'def', 'del', 'elif', 'else', 'except', 'finally', 'for', 'from', 'global', 'if', 'import', 'in', 'is', 'lambda', 'nonlocal', 'not', 'or', 'pass', 'raise', 'return', 'try', 'while', 'with', 'yield']\n"
     ]
    }
   ],
   "source": [
    "import keyword\n",
    "a=keyword.kwlist\n",
    "print(a)"
   ]
  },
  {
   "cell_type": "markdown",
   "metadata": {},
   "source": [
    "# Q.2. What are the rules to create variables in python?\n",
    "The rules are simple for variable\n",
    "\n",
    "i) specify a name to variable(my_data), and input any data types empty or with elements.\n",
    "\n",
    "ii) Variable names shouldn't start with numbers,special characters(@#$%^)\n",
    "\n",
    "iii)Assignment denoted by ( = )\n",
    "\n",
    "iv) Should always specify the proper data type for the variable. \n",
    "\n",
    "Ex= my_data= 'name' (string) or 100 (number) or [list items], (tuples), {dict}.\n"
   ]
  },
  {
   "cell_type": "code",
   "execution_count": 2,
   "metadata": {},
   "outputs": [
    {
     "name": "stdout",
     "output_type": "stream",
     "text": [
      "The elements in variable:  [1, 2, 3]\n"
     ]
    }
   ],
   "source": [
    "my_data=[1,2,3] #variable is of list data type\n",
    "print(\"The elements in variable: \",my_data)"
   ]
  },
  {
   "cell_type": "markdown",
   "metadata": {},
   "source": [
    "# Q.3. What are the standards and conventions followed for the nomenclature of variables in python to improve code readability and maintainability?\n",
    "\n",
    "# Variable names: \n",
    "use of short and descriptive names to indicate their purpose.\n",
    "\n",
    "# Avoid some inbuilts \n",
    "\n",
    "i)Avoid using of keywords as variables.\n",
    "\n",
    "ii) Avoid usage of single character names for variables, as most of the time single charachters are used in loops. give a descriptive name.\n",
    "\n",
    "iii)Style of case.\n",
    "lowercase with underscore or uppercase.\n",
    "\n",
    "iv) Avoid usage of special variables __init__,__main__\n",
    "\n",
    "v)Avoid usage of protected variables. double underscore specifies that that variable is protected and has restricted access.\n",
    "\n"
   ]
  },
  {
   "cell_type": "markdown",
   "metadata": {},
   "source": [
    "# Q.4. What will happen if a keyword is used as a variable name?\n",
    "This gives an syntax error as some of the key words are protected for specific purpose.\n"
   ]
  },
  {
   "cell_type": "code",
   "execution_count": 3,
   "metadata": {},
   "outputs": [
    {
     "ename": "SyntaxError",
     "evalue": "invalid syntax (1570766455.py, line 1)",
     "output_type": "error",
     "traceback": [
      "\u001b[1;36m  Cell \u001b[1;32mIn[3], line 1\u001b[1;36m\u001b[0m\n\u001b[1;33m    class=\"name\"\u001b[0m\n\u001b[1;37m         ^\u001b[0m\n\u001b[1;31mSyntaxError\u001b[0m\u001b[1;31m:\u001b[0m invalid syntax\n"
     ]
    }
   ],
   "source": [
    "class=\"name\""
   ]
  },
  {
   "cell_type": "markdown",
   "metadata": {},
   "source": [
    "# Q.5. For what purpose def keyword is used?\n",
    "def is used to deine a function, which contains a block of code. \n",
    "To execute the block when the function is called."
   ]
  },
  {
   "cell_type": "code",
   "execution_count": 6,
   "metadata": {},
   "outputs": [
    {
     "data": {
      "text/plain": [
       "'Welcome to Hello world Abhishek'"
      ]
     },
     "execution_count": 6,
     "metadata": {},
     "output_type": "execute_result"
    }
   ],
   "source": [
    "def greet(name):\n",
    "    return f\"Welcome to Hello world {name}\"\n",
    "\n",
    "\n",
    "greet('Abhishek')"
   ]
  },
  {
   "cell_type": "markdown",
   "metadata": {},
   "source": [
    "# Q.6. What is the operation of this special character ‘\\’?\n",
    "# Backslash \\ :\n",
    "\n",
    "i)These are used to specify some special character as \\n (new line) or \\t tab character\n",
    "\n",
    "ii)In OS it is define to give a specific path c:\\ineuron\\pwskills\n"
   ]
  },
  {
   "cell_type": "code",
   "execution_count": 10,
   "metadata": {},
   "outputs": [
    {
     "name": "stdout",
     "output_type": "stream",
     "text": [
      "welcome to ineuron\n",
      "pwskills \n",
      "address \n",
      "bangalore\n"
     ]
    }
   ],
   "source": [
    "print(\"welcome to ineuron\\npwskills \\naddress \\nbangalore\")"
   ]
  },
  {
   "cell_type": "markdown",
   "metadata": {},
   "source": [
    "# Q.7. Give an example of the following conditions:\n",
    "# (i) Homogeneous list \n",
    "Homo means same. list having the same data type. only as int or float  or string\n",
    "# (ii) Heterogeneous set\n",
    "Hetro means mixture, the set haveing the mixture of srings,int,float,boolean data type\n",
    "# (iii) Homogeneous tuple\n",
    "The tuple containing same data types,only as int or float  or string"
   ]
  },
  {
   "cell_type": "code",
   "execution_count": null,
   "metadata": {},
   "outputs": [],
   "source": [
    "homogeneous_list = [1,2,3,4,5] # only of int data type\n",
    "heterogeneous_set = {1,\"hello\",8.45} # mixture of int,float,string data type\n",
    "homogeneous_tuple = (\"apple\", \"banana\", \"kiwi\", \"mango\") #  only of string data type \n",
    "\n"
   ]
  },
  {
   "cell_type": "markdown",
   "metadata": {},
   "source": [
    "## Q.8. Explain the mutable and immutable data types with proper explanation & examples. \n",
    "\n",
    "# Mutable data type \n",
    "\n",
    "# Lists: \n",
    "Lists can be modified by adding, removing, or changing elements.\n",
    "# Dictionaries:\n",
    " You can modify dictionary entries by adding, updating, or deleting key-value pairs.\n",
    "# Sets: \n",
    "Sets can be modified by adding or removing elements.\n",
    "\n",
    "# Imutable data type\n",
    "\n",
    "# Strings: \n",
    "Once a string is created,can't modify its characters individually.\n",
    "# Tuples: \n",
    "Tuples cannot be modified after creation. should create new tuple with new items."
   ]
  },
  {
   "cell_type": "code",
   "execution_count": 12,
   "metadata": {},
   "outputs": [
    {
     "name": "stdout",
     "output_type": "stream",
     "text": [
      "[1, 2, 3]\n",
      "added value [1, 2, 3, 'dog']\n",
      "deleted item 2 : [1, 3, 'dog']\n",
      "{'Name': 'Abhi', 'course': 'data science', 'skills': 'python'}\n",
      "added key value pair:  {'Name': 'Abhi', 'course': 'data science', 'skills': 'python', 'city': 'Bangalore'}\n",
      "1\n",
      "{2, 3, 4, 5}\n"
     ]
    }
   ],
   "source": [
    "# lists \n",
    "my_list=[1,2,3]\n",
    "print(my_list)\n",
    "my_list.append('dog')\n",
    "print(\"added value\",my_list)\n",
    "my_list.remove(2)\n",
    "print(\"deleted item 2 :\" , my_list)\n",
    "\n",
    "\n",
    "# dictionaries\n",
    "my_dict={'Name':'Abhi','course':'data science','skills':'python'}\n",
    "print(my_dict)\n",
    "my_dict['city']='Bangalore'\n",
    "print(\"added key value pair: \",my_dict)\n",
    "\n",
    "#sets\n",
    "my_set = {1, 2, 3, 4, 5}\n",
    "removed_element = my_set.pop()  \n",
    "print(removed_element)         \n",
    "print(my_set)                 \n"
   ]
  },
  {
   "cell_type": "code",
   "execution_count": 13,
   "metadata": {},
   "outputs": [
    {
     "ename": "AttributeError",
     "evalue": "'tuple' object has no attribute 'append'",
     "output_type": "error",
     "traceback": [
      "\u001b[1;31m---------------------------------------------------------------------------\u001b[0m",
      "\u001b[1;31mAttributeError\u001b[0m                            Traceback (most recent call last)",
      "Cell \u001b[1;32mIn[13], line 4\u001b[0m\n\u001b[0;32m      1\u001b[0m \u001b[39m#tuples \u001b[39;00m\n\u001b[0;32m      3\u001b[0m my_tuple\u001b[39m=\u001b[39m(\u001b[39m'\u001b[39m\u001b[39mname\u001b[39m\u001b[39m'\u001b[39m,\u001b[39m'\u001b[39m\u001b[39mplace\u001b[39m\u001b[39m'\u001b[39m)\n\u001b[1;32m----> 4\u001b[0m my_tuple\u001b[39m.\u001b[39;49mappend(\u001b[39m\"\u001b[39m\u001b[39mbangalore\u001b[39m\u001b[39m\"\u001b[39m)\n",
      "\u001b[1;31mAttributeError\u001b[0m: 'tuple' object has no attribute 'append'"
     ]
    }
   ],
   "source": [
    "#tuples \n",
    "\n",
    "my_tuple=('name','place')\n",
    "my_tuple.append(\"bangalore\")\n",
    "\n",
    "# Error; AttributeError: 'tuple' object has no attribute 'append'\n",
    "# this explains tuples are imutable"
   ]
  },
  {
   "cell_type": "markdown",
   "metadata": {},
   "source": [
    "## Q.9. Write a code to create the given structure using only for loop.\n",
    "\n"
   ]
  },
  {
   "cell_type": "code",
   "execution_count": 27,
   "metadata": {},
   "outputs": [
    {
     "name": "stdout",
     "output_type": "stream",
     "text": [
      "    *\n",
      "   ***\n",
      "  *****\n",
      " *******\n",
      "*********\n"
     ]
    }
   ],
   "source": [
    "rows = 5\n",
    "for i in range(1, rows + 1):\n",
    "    print(\" \" * (rows - i) + \"*\" * (2 * i - 1))"
   ]
  },
  {
   "cell_type": "markdown",
   "metadata": {},
   "source": [
    "# Q.10. Write a code to create the given structure using while loop."
   ]
  },
  {
   "cell_type": "code",
   "execution_count": 30,
   "metadata": {},
   "outputs": [
    {
     "name": "stdout",
     "output_type": "stream",
     "text": [
      "|||||||||\n",
      " |||||||\n",
      "  |||||\n",
      "   |||\n",
      "    |\n"
     ]
    }
   ],
   "source": [
    "rows = 5\n",
    "i = rows * 2 - 1\n",
    "\n",
    "while i >= 1:\n",
    "    print(\" \" * ((rows * 2 - 1 - i) // 2) + \"|\" * i)\n",
    "    i -= 2\n"
   ]
  },
  {
   "cell_type": "markdown",
   "metadata": {},
   "source": []
  }
 ],
 "metadata": {
  "kernelspec": {
   "display_name": "base",
   "language": "python",
   "name": "python3"
  },
  "language_info": {
   "codemirror_mode": {
    "name": "ipython",
    "version": 3
   },
   "file_extension": ".py",
   "mimetype": "text/x-python",
   "name": "python",
   "nbconvert_exporter": "python",
   "pygments_lexer": "ipython3",
   "version": "3.10.9"
  },
  "orig_nbformat": 4
 },
 "nbformat": 4,
 "nbformat_minor": 2
}
