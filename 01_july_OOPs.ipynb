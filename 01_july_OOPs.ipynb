{
 "cells": [
  {
   "cell_type": "markdown",
   "metadata": {},
   "source": [
    "# 1. What is the primary goal of Object-Oriented Programming (OOP)? \n",
    "This uses objects and classes ,purpose to apply on ral world problems as inheritance, polymorphisms, encapsulation,data abstraction etc.\n",
    "this protects  the data and works as a single unit so that no other block can use this data.(Secure block of code, which shares data within the inhertance)"
   ]
  },
  {
   "cell_type": "markdown",
   "metadata": {},
   "source": [
    "# 2. What is an object in Python? \n",
    "object is an element that has a state and behaviour related to it. it is an instance of a class which may have attributes,funcions associated to it.\n"
   ]
  },
  {
   "cell_type": "code",
   "execution_count": 129,
   "metadata": {},
   "outputs": [
    {
     "name": "stdout",
     "output_type": "stream",
     "text": [
      "Student name: Abhi\n",
      "Course : FSDA \n",
      "The batch size is full please join the upcoming batch\n"
     ]
    }
   ],
   "source": [
    "class ineuron: # This is class name  #this is the class object with method to initiliaze attributes\n",
    "    max_atttandance=500 # This is a class variable which is accessed by the whole class\n",
    "\n",
    "    def __init__(self,name,course): # constructor\n",
    "        self.course=course # Instance varibale specific to obejct class\n",
    "        self.name=name     # \"name\" \"course\" are attributes with self parameter\n",
    "\n",
    "\n",
    "    def display_info(self): # This is a method where the Attributes are called.\n",
    "        print(f\"Student name: {self.name}\\nCourse : {self.course} \")\n",
    "\n",
    "    def attendancce(self,No_students):\n",
    "        self.No_students=No_students\n",
    "        if No_students>ineuron.max_atttandance: # accessing the class variable\n",
    "            print(\"The batch size is full please join the upcoming batch\")\n",
    "    \n",
    "\n",
    "    \n",
    "#creating an onject instance for the class \n",
    "krish=ineuron(\"Abhi\",\"FSDA\")\n",
    "krish.display_info()\n",
    "krish.attendancce(501)"
   ]
  },
  {
   "cell_type": "markdown",
   "metadata": {},
   "source": [
    "# 3. What is a class in Python? \n",
    "It is a collection of objects,which contains the blueprint with thich the objects are created and has some atrributes and methods."
   ]
  },
  {
   "cell_type": "markdown",
   "metadata": {},
   "source": [
    "# 4. What are attributes and methods in a class?\n",
    " # Attributes \n",
    " These are nothing but an instance of variables that belong to th object and hold specific data,represent the character of an object.\n",
    " accessed as dot notaion with object notation.\n",
    "\n",
    "# methods\n",
    "\n",
    "Functon defined within th class ,operate on attributes and perform an specific task,these are called on objects instances and can manipulate object attributes.\n",
    "Methods take parameters same as regular funtcion"
   ]
  },
  {
   "cell_type": "markdown",
   "metadata": {},
   "source": [
    "# \" Please consider the above example for methods,object and attributes and instance variable, class variable \""
   ]
  },
  {
   "cell_type": "markdown",
   "metadata": {},
   "source": [
    "# 5. What is the difference between class variables and instance variables in Python?\n",
    "i) Instance variables belong to a object from a class.\n",
    " \n",
    " Each object has its own instance variable,which doesnt affect the other variables object created in same class. \n",
    " \n",
    " Instance variables are defined in initial constructor and with specifict to each object.\n",
    "\n",
    "ii) Class variable belong to the entire class  and can be accesed from any of the object methods by class_name.variable. \n",
    "\n",
    "They are defined within  in the class outside methods.\n",
    "\n",
    " any changes in clas variable will change all the instances used. (Similar to global variable)\n",
    "\n"
   ]
  },
  {
   "cell_type": "markdown",
   "metadata": {},
   "source": [
    "# 6. What is the purpose of the self parameter in Python class methods?\n",
    "it refers to current instance of the class,and used to access the variable belonging to the class.\n",
    "It does not always has to be named self, it can be an name but it  has to be the 1st parameter of any function in the class.\n",
    "\n"
   ]
  },
  {
   "cell_type": "markdown",
   "metadata": {},
   "source": [
    "# 7. For a library management system, you have to design the \"Book\" class with OOP principles in mind. The “Book” class will have following attributes:\n",
    "a. title: Represents the title of the book.\n",
    "\n",
    "b. author: Represents the author(s) of the book.\n",
    "\n",
    "\n",
    "c. isbn: Represents the ISBN (International Standard Book Number) of the book.\n",
    "\n",
    "d. publication_year: Represents the year of publication of the book.\n",
    "\n",
    "e. available_copies: Represents the number of copies available for checkout.\n",
    "\n",
    "The class will also include the following methods:\n",
    "\n",
    "a. check_out(self): Decrements the available copies by one if there are copies available for checkout.\n",
    "\n",
    "b. return_book(self): Increments the available copies by one when a book is returned.\n",
    "\n",
    "c. display_book_info(self): Displays the information about the book, including its\n",
    "attributes and the number of available copies."
   ]
  },
  {
   "cell_type": "code",
   "execution_count": 41,
   "metadata": {},
   "outputs": [
    {
     "name": "stdout",
     "output_type": "stream",
     "text": [
      "Welcome to Library.\n",
      "ISBN: 895-85562462 is checked out\n",
      "  \n",
      "Book name:python A-Z\n",
      "ISBN: 895-85562462 \n",
      " Available copies: 19\n",
      "   \n",
      "Book Title: python A-Z\n",
      " ISBN: 895-85562462\n",
      "Publishe year: 2021\n",
      "Available copies: 19\n"
     ]
    }
   ],
   "source": [
    "class Book:\n",
    "    available_copies=20 # class variable accessible throughout class\n",
    "\n",
    "    def __init__(self,tilte,ISBN,publish_year): #initialize a object  method \n",
    "        self.title=tilte # variale attribute\n",
    "        self.ISBN=ISBN\n",
    "        self.publish_year=publish_year\n",
    "        self.check_out=False\n",
    "\n",
    "        print(\"Welcome to Library.\")\n",
    "\n",
    "    def copies(self): # method to check copies available\n",
    "        if Book.available_copies==0:\n",
    "            print(\"All books are checked out. please select another book\")\n",
    "        else:\n",
    "            pass\n",
    "\n",
    "\n",
    "    def check_out_book(self): #check out method\n",
    "        self.copies()\n",
    "        if not self.check_out:\n",
    "            Book.available_copies-=1\n",
    "            print(f\"ISBN: {self.ISBN} is checked out\")\n",
    "        else:\n",
    "            print(f\"ISBN: {self.ISBN} \\n Available copies: {Book.available_copies}\")\n",
    "            \n",
    "            \n",
    "    def return_book(self):\n",
    "        self.copies()\n",
    "        if self.check_out:\n",
    "            print(f\"Book name:{self.title}\\nISBN: {self.ISBN} is returned\")\n",
    "            Book.available_copies+=1\n",
    "            self.check_out = False\n",
    "        else:\n",
    "            print(f\"Book name:{self.title}\\nISBN: {self.ISBN} \\n Available copies: {Book.available_copies}\")\n",
    "\n",
    "\n",
    "    def display_info(self): # diplay metjod to details of the book\n",
    "        print(f\"Book Title: {self.title}\\n ISBN: {self.ISBN}\\nPublishe year: {self.publish_year}\\nAvailable copies: {Book.available_copies}\")\n",
    "\n",
    "\n",
    "\n",
    "Pustak=Book(\"python A-Z\",\"895-85562462\",2021) \n",
    "#Pustak.display_info()\n",
    "Book.check_out=False\n",
    "\n",
    "Pustak.check_out_book()\n",
    "\n",
    "print(\"  \")\n",
    "\n",
    "\n",
    "Pustak.return_book()\n",
    "\n",
    "\n",
    "print(\"   \")\n",
    "\n",
    "\n",
    "\n",
    "Pustak.display_info()\n",
    "    \n",
    "\n",
    "                  \n",
    "        \n",
    "            "
   ]
  },
  {
   "cell_type": "markdown",
   "metadata": {},
   "source": [
    "# 8. For a ticket booking system, you have to design the \"Ticket\" class with OOP principles in mind. The “Ticket” class should have the following attributes:\n",
    "a. ticket_id: Represents the unique identifier for the ticket.\n",
    "\n",
    "\n",
    "b. event_name: Represents the name of the event.\n",
    "\n",
    "c. event_date: Represents the date of the event.\n",
    "\n",
    "d. venue: Represents the venue of the event.\n",
    "\n",
    "e. seat_number: Represents the seat number associated with the ticket.\n",
    "\n",
    "f. price: Represents the price of the ticket.\n",
    "\n",
    "g. is_reserved: Represents the reservation status of the ticket.\n",
    "\n",
    "The class also includes the following methods:\n",
    "\n",
    "a. reserve_ticket(self): Marks the ticket as reserved if it is not already reserved.\n",
    "\n",
    "b. cancel_reservation(self): Cancels the reservation of the ticket if it is already reserved.\n",
    "\n",
    "c. display_ticket_info(self): Displays the information about the ticket, including its\n",
    "attributes and reservation status."
   ]
  },
  {
   "cell_type": "code",
   "execution_count": 66,
   "metadata": {},
   "outputs": [],
   "source": [
    "import numpy as np\n",
    "class Ticket:\n",
    "\n",
    "    available_seats=200 # class variable max number of available seats\n",
    "    seats=[] # booked seats\n",
    "    id=[] # respective ids\n",
    "\n",
    "    def __init__(self,ticket_id,e_name,e_date,venue,seat_number,price,is_reserved): # initialzing the object in method\n",
    "        self.ticket_id=ticket_id\n",
    "        self.e_name=e_name\n",
    "        self.e_date=e_date\n",
    "        self.venue=venue\n",
    "        self.seat_number=seat_number\n",
    "        self.price=price\n",
    "        self.is_reserverd=is_reserved\n",
    "        self.ticket_ids()\n",
    "\n",
    "\n",
    "    def ticket_ids(self): # method for generating randdom ticked ID, as they are unique\n",
    "        tickets=np.random.randint(1000,9999) # numpy generating id numbers 4 digit from given range\n",
    "        self.ticket_id=tickets\n",
    "        Ticket.id.append(tickets) #appending the ids to the class variable id\n",
    "\n",
    "    def reserver_ticket(self): # booking a seat number method\n",
    "        seat_numb=np.random.randint(1,Ticket.available_seats) # selecting random number in range of avaialble seats\n",
    "        if seat_numb in Ticket.seats: \n",
    "            print(\"Sorry, all the seats have been booked.Please change the date or event\")\n",
    "        else:\n",
    "            self.seat_number=seat_numb\n",
    "            Ticket.seats.append(seat_numb)\n",
    "            self.is_reserverd=True # giving reservation as True because the seats have been booked\n",
    "            print(f\"Thank you for booking.\\nSeat numbre:{self.seat_number} Ticket ID: {self.ticket_id}\")\n",
    "\n",
    "    def cancel(self): # in case of cancellation method \n",
    "        id_number=int(input(\"Please enter Ticket ID\")) # input from the user for the ID\n",
    "        \n",
    "        if id_number in Ticket.id: # condition if the ID is prsent in class variable ID\n",
    "            index=Ticket.id.index(id_number) #getting the inde of that value\n",
    "            del Ticket.id[index] # deleting the index value as it si no longer needed\n",
    "            del Ticket.seats[index] # deleting the index value as it si no longer needed with respect to seat number\n",
    "            print(f\"Ticket_ID :{id_number} is cancelled\")\n",
    "            self.is_reserverd=False # as it is not reserved it is false\n",
    "        else:\n",
    "            print(f\"{id_number} is not valid. Please enter the valid number\")\n",
    "\n",
    "\n",
    "    def status(self,number): # getting the status method\n",
    "        if number in Ticket.seats:\n",
    "            print(\"Ticket is booked.\")\n",
    "        else:\n",
    "            print(\"Ticket is not booked\")\n",
    "\n",
    "    def availibility(self): # Just a method to check how many seats are booked\n",
    "        print(f\"seats available :{Ticket.available_seats - len(Ticket.seats)}\")\n",
    "        print(f\"seats number booked: {Ticket.seats}\")\n",
    "        print(f\"Ticket ID: {Ticket.id}\") # just for reference\n",
    "\n",
    "    def display_info(self): # display info method\n",
    "        if self.ticket_id in Ticket.id:\n",
    "            print(f\"Ticket ID:{self.ticket_id}\\n\")\n",
    "            print(f\"Event Name: {self.e_name}\\n\")\n",
    "            print(f\"Event date:{self.e_date}\\n\")\n",
    "            print(f\"venue:{self.venue}\\n\")\n",
    "            print(f\"Seat number:{self.seat_number}\\n\")\n",
    "            print(f\"Price Rs.{self.price}\")\n",
    "            if self.is_reserverd:\n",
    "                print(\"Reserved!\")\n",
    "            else:\n",
    "                print(\"Not reserved\")\n",
    "        else:\n",
    "            print(\"The ticket is been cancelled\")\n",
    "        \n",
    "        \n",
    "\n",
    "    \n",
    "\n",
    "\n",
    "\n",
    "\n"
   ]
  },
  {
   "cell_type": "code",
   "execution_count": 67,
   "metadata": {},
   "outputs": [],
   "source": [
    "ticket1 = Ticket(None, \"Movie Night\", \"15/06/2023\", \"Theater A\", None, 100.0, False) # assigning the class to variable\n",
    "ticket2=Ticket(None, \"concert\", \"15/09/2023\", \"theater c\", None, 1000.0, False)\n",
    "ticket3=Ticket(None, \"avengers\", \"15/06/2023\", \"Theater B\", None, 500.0, False) # Giving some inpurs as none because it will randomly get selected with help of numpy\n",
    "ticket4=Ticket(None, \"KGF\", \"15/05/2023\", \"Theater D\", None, 100.0, False)"
   ]
  },
  {
   "cell_type": "code",
   "execution_count": 68,
   "metadata": {},
   "outputs": [
    {
     "name": "stdout",
     "output_type": "stream",
     "text": [
      "Thank you for booking.\n",
      "Seat numbre:109 Ticket ID: 4192\n",
      "Thank you for booking.\n",
      "Seat numbre:167 Ticket ID: 2053\n",
      "Thank you for booking.\n",
      "Seat numbre:166 Ticket ID: 6832\n",
      "Thank you for booking.\n",
      "Seat numbre:143 Ticket ID: 9849\n"
     ]
    }
   ],
   "source": [
    "ticket1.reserver_ticket()\n",
    "ticket2.reserver_ticket()\n",
    "ticket3.reserver_ticket()\n",
    "ticket4.reserver_ticket()\n",
    "\n"
   ]
  },
  {
   "cell_type": "code",
   "execution_count": 69,
   "metadata": {},
   "outputs": [
    {
     "name": "stdout",
     "output_type": "stream",
     "text": [
      "seats available :196\n",
      "seats number booked: [109, 167, 166, 143]\n",
      "Ticket ID: [4192, 2053, 6832, 9849]\n"
     ]
    }
   ],
   "source": [
    "ticket1.availibility()"
   ]
  },
  {
   "cell_type": "code",
   "execution_count": 70,
   "metadata": {},
   "outputs": [
    {
     "name": "stdout",
     "output_type": "stream",
     "text": [
      "Ticket_ID :2053 is cancelled\n"
     ]
    }
   ],
   "source": [
    "ticket2.cancel()"
   ]
  },
  {
   "cell_type": "code",
   "execution_count": 71,
   "metadata": {},
   "outputs": [
    {
     "name": "stdout",
     "output_type": "stream",
     "text": [
      "seats available :197\n",
      "seats number booked: [109, 166, 143]\n",
      "Ticket ID: [4192, 6832, 9849]\n"
     ]
    }
   ],
   "source": [
    "ticket1.availibility()"
   ]
  },
  {
   "cell_type": "code",
   "execution_count": 72,
   "metadata": {},
   "outputs": [
    {
     "name": "stdout",
     "output_type": "stream",
     "text": [
      "Ticket ID:4192\n",
      "\n",
      "Event Name: Movie Night\n",
      "\n",
      "Event date:15/06/2023\n",
      "\n",
      "venue:Theater A\n",
      "\n",
      "Seat number:109\n",
      "\n",
      "Price Rs.100.0\n",
      "Reserved!\n"
     ]
    }
   ],
   "source": [
    "ticket1.display_info()\n"
   ]
  },
  {
   "cell_type": "code",
   "execution_count": 73,
   "metadata": {},
   "outputs": [
    {
     "name": "stdout",
     "output_type": "stream",
     "text": [
      "The ticket is been cancelled\n"
     ]
    }
   ],
   "source": [
    "ticket2.display_info()"
   ]
  },
  {
   "cell_type": "code",
   "execution_count": null,
   "metadata": {},
   "outputs": [],
   "source": []
  },
  {
   "cell_type": "markdown",
   "metadata": {},
   "source": [
    "# 9. You are creating a shopping cart for an e-commerce website. Using OOP to model the \"ShoppingCart\" functionality the class should contain following attributes and methods:\n",
    "a. items: Represents the list of items in the shopping cart.\n",
    "The class also includes the following methods:\n",
    "\n",
    "a. add_item(self, item): Adds an item to the shopping cart by appending it to the list of items.\n",
    "\n",
    "b. remove_item(self, item): Removes an item from the shopping cart if it exists in the list.\n",
    "\n",
    "c. view_cart(self): Displays the items currently present in the shopping cart.\n",
    "\n",
    "d. clear_cart(self): Clears all items from the shopping cart by reassigning an empty list to the items attribute."
   ]
  },
  {
   "cell_type": "code",
   "execution_count": 103,
   "metadata": {},
   "outputs": [],
   "source": [
    "class Shopping_cart:\n",
    "\n",
    "    def __init__(self): # initializing the object method\n",
    "        self.cart_items=[] # giving an empty list as it will be easy to add items and remove them\n",
    "        \n",
    "\n",
    "    def add_items(self,item): # method for adding items\n",
    "        self.item=item # using the current instance item with help of self parameter\n",
    "        self.cart_items.append(item) # append is method where the items are added in the end of the list\n",
    "\n",
    "    def remove_items(self,item): #method for removing the items\n",
    "        self.item=item\n",
    "        if self.cart_items ==[]: #if the cart is empty this condition iterates\n",
    "            print(\"The cart is empty .No Item to remove\")\n",
    "        if item in self.cart_items: # checks for the item in the cart,if true it removes the particular item from the cart\n",
    "            self.cart_items.remove(item)\n",
    "            print(f\"The items {self.item} is removed\")\n",
    "        else:\n",
    "            print(f\"There is no Item as {self.item}\") # if the item is not present in the cart this block runs\n",
    "\n",
    "    def view_cart(self): # View of the cart items\n",
    "        if self.cart_items ==[]: #again checking if cart is empty\n",
    "            print(\"The cart is empty .No Item: \",self.cart_items)\n",
    "        else:\n",
    "            print(f\"Total items:{len(self.cart_items)}\\nCart items:{self.cart_items}\")\n",
    "\n",
    "\n",
    "    def clear_cart(self): # claer cart method\n",
    "        clear=input(\"Are you sure you want to remove all items from the cart \") # input from the user as sure to clear the cart\n",
    "        if clear.lower()==\"yes\": # if the inpput is yes it will delete the cart\n",
    "            del self.cart_items\n",
    "            self.cart_items=[] #reassigning the cart as empty list\n",
    "        else:\n",
    "            print(\"Cart not cleared,continue shopping\") # any other than yes input then this blockm runs"
   ]
  },
  {
   "cell_type": "code",
   "execution_count": 97,
   "metadata": {},
   "outputs": [],
   "source": [
    "shopping_list=Shopping_cart() # assigning the class to a variable"
   ]
  },
  {
   "cell_type": "code",
   "execution_count": 105,
   "metadata": {},
   "outputs": [
    {
     "name": "stdout",
     "output_type": "stream",
     "text": [
      "The cart is empty .No Item []\n",
      "Total items:7\n",
      "Cart items:['Bottle', 'apple', 'boxes', 'sweater', 'milk', 'butter', 'shoes']\n"
     ]
    }
   ],
   "source": [
    "shopping_list.view_cart() # accessing the object method with help of class_name.method_name()\n",
    "shopping_list.add_items(\"Bottle\") # addinf items as the add item requires an input\n",
    "shopping_list.add_items(\"apple\")\n",
    "shopping_list.add_items(\"boxes\")\n",
    "shopping_list.add_items(\"sweater\")\n",
    "shopping_list.add_items(\"milk\")\n",
    "shopping_list.add_items(\"butter\")\n",
    "shopping_list.add_items(\"shoes\")\n",
    "shopping_list.view_cart()"
   ]
  },
  {
   "cell_type": "code",
   "execution_count": 106,
   "metadata": {},
   "outputs": [
    {
     "name": "stdout",
     "output_type": "stream",
     "text": [
      "The items milk is removed\n",
      "Total items:6\n",
      "Cart items:['Bottle', 'apple', 'boxes', 'sweater', 'butter', 'shoes']\n"
     ]
    }
   ],
   "source": [
    "shopping_list.remove_items(\"milk\") # removing the Item milk\n",
    "shopping_list.view_cart()"
   ]
  },
  {
   "cell_type": "code",
   "execution_count": 107,
   "metadata": {},
   "outputs": [
    {
     "name": "stdout",
     "output_type": "stream",
     "text": [
      "The cart is empty .No Item []\n"
     ]
    }
   ],
   "source": [
    "shopping_list.clear_cart()\n",
    "shopping_list.view_cart()"
   ]
  },
  {
   "cell_type": "code",
   "execution_count": 102,
   "metadata": {},
   "outputs": [
    {
     "name": "stdout",
     "output_type": "stream",
     "text": [
      "The cart is empty .No Item []\n"
     ]
    }
   ],
   "source": []
  },
  {
   "cell_type": "code",
   "execution_count": 122,
   "metadata": {},
   "outputs": [],
   "source": [
    "class Student:\n",
    "\n",
    "\n",
    "    def __init__(self,name,age,grade,student_id,): # class object initialting\n",
    "        self.name=name\n",
    "        self.age=age\n",
    "        self.grade=grade\n",
    "        self.student_id=student_id\n",
    "        self.attendance={}\n",
    "    \n",
    "    def get_details(self): # Getting the details of the student\n",
    "        print(f\"Name: {self.name}\\nAge: {self.age}\\nStudent_ID: {self.student_id}\\nStudent has been graded {self.grade}\")\n",
    "        self.get_attendance() # running the get_attendance method to  get thr attendacnce\n",
    "\n",
    "    def update_attendance(self,date,status): # update method \n",
    "        if date in self.attendance: # checking the condition so that the dates dont overlap or repeated\n",
    "            print(f\"The date: {date} is already recorded\")\n",
    "        else:\n",
    "            self.attendance[date]=status # if dates dont overlap then adding the attendance to dict with key as date and status as value\n",
    "            #print(f\"The Date: {date} is updated as {status}\")\n",
    "\n",
    "    def get_attendance(self): # getting the attendance\n",
    "        print(f\"The attendance of {self.name} is {self.attendance} \")\n",
    "\n",
    "    def get_average(self):\n",
    "        if self.attendance=={}: # if the attendance is null it returns 0\n",
    "            return 0\n",
    "        else:\n",
    "            total_days=len(self.attendance) # Ttoal is the len of days recoreded\n",
    "            days_present=list(self.attendance.values()).count(\"present\") # this line of code takes the values and count to specific input\n",
    "            # calculating the average percentage\n",
    "            average=days_present/total_days *100\n",
    "            print(f\"The averge of present days is:  {average} %\")\n",
    "        if average<=50:\n",
    "            print(\"Atendance is very low\")\n",
    "        else:\n",
    "            print(f\"Good record of attendance\")\n"
   ]
  },
  {
   "cell_type": "code",
   "execution_count": 130,
   "metadata": {},
   "outputs": [
    {
     "name": "stdout",
     "output_type": "stream",
     "text": [
      "The date: 08/08/2023 is already recorded\n",
      "Name: Abhishek\n",
      "Age: 22\n",
      "Student_ID: KA01CS5265\n",
      "Student has been graded A\n",
      "The attendance of Abhishek is {'01/06/2023': 'present', '02/06/2023': 'absent', '03/06/2023': 'present', '21/03/2023': 'present', '06/06/2023': 'absent', '08/06/2023': 'present', '21/04/2023': 'present', '06/05/2023': 'present', '08/08/2023': 'present'} \n",
      "The averge of present days is:  77.77777777777779 %\n",
      "Good record of attendance\n"
     ]
    }
   ],
   "source": [
    "student1 = Student(\"Abhishek\", 22, \"A\", \"KA01CS5265\") # getting the class to variable\n",
    "student1.update_attendance(\"01/06/2023\", \"present\") # class_name_method_name.() updating the attendace\n",
    "student1.update_attendance(\"02/06/2023\", \"absent\")\n",
    "student1.update_attendance(\"03/06/2023\", \"present\")\n",
    "student1.update_attendance(\"21/03/2023\", \"present\")\n",
    "student1.update_attendance(\"06/06/2023\", \"absent\")\n",
    "student1.update_attendance(\"08/06/2023\", \"present\")\n",
    "student1.update_attendance(\"21/04/2023\", \"present\")\n",
    "student1.update_attendance(\"06/05/2023\", \"present\")\n",
    "student1.update_attendance(\"08/08/2023\", \"present\")\n",
    "student1.update_attendance(\"08/08/2023\", \"present\")\n",
    "student1.get_details()\n",
    "average_attendance = student1.get_average()"
   ]
  },
  {
   "cell_type": "code",
   "execution_count": null,
   "metadata": {},
   "outputs": [],
   "source": []
  }
 ],
 "metadata": {
  "kernelspec": {
   "display_name": "base",
   "language": "python",
   "name": "python3"
  },
  "language_info": {
   "codemirror_mode": {
    "name": "ipython",
    "version": 3
   },
   "file_extension": ".py",
   "mimetype": "text/x-python",
   "name": "python",
   "nbconvert_exporter": "python",
   "pygments_lexer": "ipython3",
   "version": "3.10.9"
  },
  "orig_nbformat": 4
 },
 "nbformat": 4,
 "nbformat_minor": 2
}
