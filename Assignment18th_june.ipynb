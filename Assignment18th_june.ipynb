{
 "cells": [
  {
   "cell_type": "code",
   "execution_count": null,
   "metadata": {},
   "outputs": [],
   "source": []
  },
  {
   "cell_type": "markdown",
   "metadata": {},
   "source": [
    "# 1. What is the role of the 'else' block in a try-except statement? Provide an example scenario where it would be useful."
   ]
  },
  {
   "cell_type": "code",
   "execution_count": 3,
   "metadata": {},
   "outputs": [
    {
     "name": "stdout",
     "output_type": "stream",
     "text": [
      "number entered is 5\n",
      "The square of given number 5 is 25\n"
     ]
    }
   ],
   "source": [
    "try:\n",
    "    number=int(input(\"Number entered: \")) # an input from the user\n",
    "    print(f\"number entered is {number}\") # validating the entered number. if the name variable is incorrect it raises NameError\n",
    "\n",
    "except NameError: #if there is a incorrect name this block runs with a customized message for the error\n",
    "    print(\"Name entered is wrong, please check ! \")\n",
    "\n",
    "except ValueError: #if there is a incorrect data type entered this block runs with a customized message for the error\n",
    "    print(\"please enter the value in interger\")\n",
    "else: # if at all there is no error founf this block of code runs and gives the ouptput\n",
    "    square=number*number\n",
    "    print(f\"The square of given number {number} is {square}\")"
   ]
  },
  {
   "cell_type": "markdown",
   "metadata": {},
   "source": [
    "# 2. Can a try-except block be nested inside another try-except block? Explain with an example.\n",
    "Yes it is possible."
   ]
  },
  {
   "cell_type": "code",
   "execution_count": null,
   "metadata": {},
   "outputs": [],
   "source": [
    "try:\n",
    "    num1=int(input(\"Enter the 1st number: \"))  \n",
    "    num2=int(input(\"Enter the 2nd number: \"))\n",
    "\n",
    "    # Nested block\n",
    "    try:  #  if the numbers are in interger this block will iterate\n",
    "        result=num1/num2\n",
    "        print(f\"Result: {result}\")\n",
    "    except ZeroDivisionError: # ig the number contains 0 this block iterates and gives the message\n",
    "        print(\"The number cannot be divided by Zero \\nPlease enter a value greater than 0\")\n",
    "\n",
    "except ValueError: # if the number are not in interger then this block iterates and gives the message, Value error is that 2 diff types(int and float) cant bbr divided.\n",
    "    print(\"please Enter the values in integer type \")"
   ]
  },
  {
   "cell_type": "markdown",
   "metadata": {},
   "source": [
    "# 3. How can you create a custom exception class in Python? Provide an example that demonstrates its usage.\n"
   ]
  },
  {
   "cell_type": "code",
   "execution_count": 54,
   "metadata": {},
   "outputs": [
    {
     "name": "stdout",
     "output_type": "stream",
     "text": [
      "current age: 15\n",
      "You are not eligible to vote. \n",
      "You will be eligible after 3 years\n"
     ]
    }
   ],
   "source": [
    "# creating a exception for the voting age\n",
    "\n",
    "class voter_age(Exception): # define class custom excetion class\n",
    "    pass\n",
    "\n",
    "min_age=18 # basic condition reqired \n",
    "try:\n",
    "    age=int(input(\"Please enter your age\")) # user input \n",
    "    print(f\"current age: {age}\")\n",
    "    if age<min_age: #checking the condition\n",
    "        raise voter_age # if less than min_age then it raises a custom exception\n",
    "    else: # esle this block of code exceutes\n",
    "        print(\"You are eligible to vote\")\n",
    "\n",
    "except voter_age: # if exception is raise, it gives a cutomized messgae\n",
    "    print(f\"You are not eligible to vote. \\nYou will be eligible after {min_age-age} years\")\n"
   ]
  },
  {
   "cell_type": "markdown",
   "metadata": {},
   "source": [
    "# 4. What are some common exceptions that are built-in to Python? \n",
    "# i) ZeroDivisionError\n",
    "when a number is divided by zero,this occurs.\n",
    "\n",
    "# ii) ValueError\n",
    "if the data type is incorrect (int as float or str),this error occurs\n",
    "\n",
    "# iii) TypeError\n",
    "adding str to int or float value,this error occurs.\n",
    "\n",
    "# iv) IndexError\n",
    "if the lenght of list or array is less than the index value\n",
    "\n",
    "# V) KeyError\n",
    "if the key value is  not present in dictionary.\n",
    "\n",
    "# vi) SyntaxError \n",
    "when there is a missing brackets or any operational notations in the code.\n",
    "\n",
    "# vii)NameError \n",
    "if the name is incorrect or mis spelled.\n",
    "\n",
    "# viii) IndentationError\n",
    "if : or the return statements i out of the loop or incomplete loop.\n",
    "\n",
    "# ix) MemoryError\n",
    "occurs when an operation runs out of memory.\n",
    "\n",
    "# x) AtrributeError \n",
    "when an attribute is not found."
   ]
  },
  {
   "cell_type": "code",
   "execution_count": 1,
   "metadata": {},
   "outputs": [
    {
     "ename": "ZeroDivisionError",
     "evalue": "division by zero",
     "output_type": "error",
     "traceback": [
      "\u001b[1;31m---------------------------------------------------------------------------\u001b[0m",
      "\u001b[1;31mZeroDivisionError\u001b[0m                         Traceback (most recent call last)",
      "Cell \u001b[1;32mIn[1], line 2\u001b[0m\n\u001b[0;32m      1\u001b[0m \u001b[39m# Zerodvision error\u001b[39;00m\n\u001b[1;32m----> 2\u001b[0m total\u001b[39m=\u001b[39m\u001b[39m10\u001b[39;49m\u001b[39m/\u001b[39;49m\u001b[39m0\u001b[39;49m\n",
      "\u001b[1;31mZeroDivisionError\u001b[0m: division by zero"
     ]
    }
   ],
   "source": [
    "# Zerodvision error\n",
    "total=10/0\n"
   ]
  },
  {
   "cell_type": "code",
   "execution_count": 9,
   "metadata": {},
   "outputs": [
    {
     "ename": "ValueError",
     "evalue": "invalid literal for int() with base 10: 'a'",
     "output_type": "error",
     "traceback": [
      "\u001b[1;31m---------------------------------------------------------------------------\u001b[0m",
      "\u001b[1;31mValueError\u001b[0m                                Traceback (most recent call last)",
      "Cell \u001b[1;32mIn[9], line 2\u001b[0m\n\u001b[0;32m      1\u001b[0m \u001b[39m#ValueError\u001b[39;00m\n\u001b[1;32m----> 2\u001b[0m w\u001b[39m=\u001b[39m\u001b[39mint\u001b[39;49m(\u001b[39m\"\u001b[39;49m\u001b[39ma\u001b[39;49m\u001b[39m\"\u001b[39;49m)\n\u001b[0;32m      3\u001b[0m q\u001b[39m=\u001b[39m\u001b[39m2.3\u001b[39m\n\u001b[0;32m      4\u001b[0m res\u001b[39m=\u001b[39mw\u001b[39m*\u001b[39mq\n",
      "\u001b[1;31mValueError\u001b[0m: invalid literal for int() with base 10: 'a'"
     ]
    }
   ],
   "source": [
    "#ValueError\n",
    "w=int(\"a\")\n",
    "q=2.3\n",
    "res=w*q\n",
    "res\n",
    "# this cant convert str value to a integer value"
   ]
  },
  {
   "cell_type": "code",
   "execution_count": 10,
   "metadata": {},
   "outputs": [
    {
     "ename": "TypeError",
     "evalue": "unsupported operand type(s) for +: 'int' and 'str'",
     "output_type": "error",
     "traceback": [
      "\u001b[1;31m---------------------------------------------------------------------------\u001b[0m",
      "\u001b[1;31mTypeError\u001b[0m                                 Traceback (most recent call last)",
      "Cell \u001b[1;32mIn[10], line 2\u001b[0m\n\u001b[0;32m      1\u001b[0m \u001b[39m# Type error\u001b[39;00m\n\u001b[1;32m----> 2\u001b[0m \u001b[39m10\u001b[39;49m\u001b[39m+\u001b[39;49m\u001b[39m\"\u001b[39;49m\u001b[39m5\u001b[39;49m\u001b[39m\"\u001b[39;49m\n",
      "\u001b[1;31mTypeError\u001b[0m: unsupported operand type(s) for +: 'int' and 'str'"
     ]
    }
   ],
   "source": [
    "# Type error\n",
    "10+\"5\"\n",
    "# both should be of same data type or else typerror occurs"
   ]
  },
  {
   "cell_type": "code",
   "execution_count": 11,
   "metadata": {},
   "outputs": [
    {
     "ename": "NameError",
     "evalue": "name 'fake' is not defined",
     "output_type": "error",
     "traceback": [
      "\u001b[1;31m---------------------------------------------------------------------------\u001b[0m",
      "\u001b[1;31mNameError\u001b[0m                                 Traceback (most recent call last)",
      "Cell \u001b[1;32mIn[11], line 1\u001b[0m\n\u001b[1;32m----> 1\u001b[0m fake\n",
      "\u001b[1;31mNameError\u001b[0m: name 'fake' is not defined"
     ]
    }
   ],
   "source": [
    "fake #this name is not defined in the program and has no variable of this name"
   ]
  },
  {
   "cell_type": "code",
   "execution_count": 12,
   "metadata": {},
   "outputs": [
    {
     "ename": "IndentationError",
     "evalue": "expected an indented block after 'for' statement on line 1 (3695896917.py, line 2)",
     "output_type": "error",
     "traceback": [
      "\u001b[1;36m  Cell \u001b[1;32mIn[12], line 2\u001b[1;36m\u001b[0m\n\u001b[1;33m    print(i)\u001b[0m\n\u001b[1;37m    ^\u001b[0m\n\u001b[1;31mIndentationError\u001b[0m\u001b[1;31m:\u001b[0m expected an indented block after 'for' statement on line 1\n"
     ]
    }
   ],
   "source": [
    "# indentation error\n",
    "for i in range(5):\n",
    "print(i)\n",
    "# in condition satement and loops the next line of code shpuld be on inside the loop or condtion"
   ]
  },
  {
   "cell_type": "code",
   "execution_count": null,
   "metadata": {},
   "outputs": [],
   "source": []
  },
  {
   "cell_type": "markdown",
   "metadata": {},
   "source": [
    "# 5. What is logging in Python, and why is it important in software development? \n",
    "Logging is a process where it saves the events or messages in the program, as it important and usefull to know when and where the code has errors,crashes,bugs or lapse in response, behaviour in an application."
   ]
  },
  {
   "cell_type": "markdown",
   "metadata": {},
   "source": [
    "# 6. Explain the purpose of log levels in Python logging and provide examples of when each log level would be appropriate.\n",
    "The purpose to know the vulnerability of the program or how serious the bug is.\n",
    "\n",
    "level of logging order\n",
    "\n",
    "critical error                     highest order    \n",
    "\n",
    "                                            \n",
    "\n",
    "error                                     \n",
    "\n",
    "                       \n",
    "\n",
    "warning                \n",
    "                        \n",
    "\n",
    "info                    \n",
    "\n",
    "                \n",
    "\n",
    "debug                             lowest order"
   ]
  },
  {
   "cell_type": "code",
   "execution_count": 7,
   "metadata": {},
   "outputs": [
    {
     "data": {
      "text/plain": [
       "11"
      ]
     },
     "execution_count": 7,
     "metadata": {},
     "output_type": "execute_result"
    }
   ],
   "source": [
    "# The DEBUG level is used for detailed debugging information, used during development and debugging phases to provide information about the program\n",
    "import logging\n",
    "logging.basicConfig(level=logging.debug)\n",
    "\n",
    "def add(x,y): # this saves information about the inputs as it will be used to debug \n",
    "    logging.debug(\"variables %s  and %s \",x,y)\n",
    "    return x+y\n",
    "\n",
    "add(5,6)"
   ]
  },
  {
   "cell_type": "code",
   "execution_count": 42,
   "metadata": {},
   "outputs": [],
   "source": [
    "# The INFO level is used to record general information about the program like log in time, location, log out time, time spent on an application.\n",
    "\n",
    "logging.basicConfig(level=logging.INFO)\n",
    "\n",
    "def login(user):\n",
    "    logging.basicConfig(level=logging.info)\n",
    "    logging.info('User name: %s ',user)\n",
    "\n",
    "login(\"abhi\")\n",
    "\n"
   ]
  },
  {
   "cell_type": "code",
   "execution_count": 43,
   "metadata": {},
   "outputs": [
    {
     "name": "stderr",
     "output_type": "stream",
     "text": [
      "WARNING:root:Low balance please add 3000 rupees to avoid charges\n"
     ]
    }
   ],
   "source": [
    "# The warning logging shows conditions that are not errors but could lead to problems if ignored.\n",
    "# As in this case to avoid charges the warning message is displayed\n",
    "logging.basicConfig(level=logging.warning)\n",
    "\n",
    "def balance(amt): # this is used to display any warning signs in the application or OS. as low battery or restricted websites\n",
    "    if amt< 5000:\n",
    "        logging.warning(\"Low balance please add %s rupees to avoid charges\",(5000-amt))\n",
    "\n",
    "balance(2000)"
   ]
  },
  {
   "cell_type": "code",
   "execution_count": 44,
   "metadata": {},
   "outputs": [
    {
     "name": "stdout",
     "output_type": "stream",
     "text": [
      "0.8333333333333334\n"
     ]
    }
   ],
   "source": [
    "#  The error logging is used to log error messages when something goes wrong but doesn't mean it results in the stopping of the program\n",
    "\n",
    "logging.basicConfig(level=logging.error)\n",
    "\n",
    "def division(x,y): # any site or program is not running properly this logging is useed\n",
    "    try: \n",
    "        result=x/y # trying with the input value \n",
    "    except ZeroDivisionError: # in one input is zero this block runs.\n",
    "        logging.error(\"Not divisble by zero\")\n",
    "\n",
    "    else: # else displayes the results\n",
    "        print(result)\n",
    "\n",
    "\n",
    "division(5,6)"
   ]
  },
  {
   "cell_type": "code",
   "execution_count": 47,
   "metadata": {},
   "outputs": [
    {
     "name": "stderr",
     "output_type": "stream",
     "text": [
      "CRITICAL:root:system booting failed\n"
     ]
    }
   ],
   "source": [
    "\n",
    "# The critical logging is the highest level and is used to log critical errors that can lead to the program's failure this should be solved immediately.\n",
    "\n",
    "logging.basicConfig(level=logging.critical)\n",
    "\n",
    "def system(log):\n",
    "    if log.lower()!=\"ok\": #checking if the system logs are defining okay else it crashes and displays the messgae. if an OS crashed this logging is used\n",
    "        logging.critical(\"system booting failed\")\n",
    "\n",
    "\n",
    "system(\"not\")"
   ]
  },
  {
   "cell_type": "markdown",
   "metadata": {},
   "source": [
    "# 7. What are log formatters in Python logging, and how can you customise the logmessage format using formatters?\n",
    "\n",
    "In Python logging, log formatters are used to define the structure and content of log messages. Formatters allow you to customize how log records are presented in the log output. ( PS in jupiter note book the code is runnig as expected.)\n"
   ]
  },
  {
   "cell_type": "code",
   "execution_count": 48,
   "metadata": {},
   "outputs": [
    {
     "name": "stderr",
     "output_type": "stream",
     "text": [
      "WARNING:root:Low balance: Please add 4000 rupees to avoid charges\n"
     ]
    }
   ],
   "source": [
    "import logging\n",
    "log_format=\"%(message)s:%(levelname)s:%(name)s\" # these formatter are customized as it will be easy for the user to understand the line of code.\n",
    "# these can be written in any order \n",
    "logging.basicConfig(format=log_format)\n",
    "\n",
    "def balance(amt):\n",
    "    if amt < 5000:\n",
    "        mini_bal=5000 - amt\n",
    "        logging.warning(\"Low balance: Please add %s rupees to avoid charges\", mini_bal)\n",
    "\n",
    "balance(1000)\n"
   ]
  },
  {
   "cell_type": "markdown",
   "metadata": {},
   "source": [
    "# 8. How can you set up logging to capture log messages from multiple modules or classes in a Python application?"
   ]
  },
  {
   "cell_type": "code",
   "execution_count": 49,
   "metadata": {},
   "outputs": [
    {
     "name": "stderr",
     "output_type": "stream",
     "text": [
      "WARNING:module:This is a warning message.\n"
     ]
    }
   ],
   "source": [
    "\n",
    "import logging\n",
    "\n",
    "\n",
    "logging.basicConfig(level=logging.DEBUG, format='%(asctime)s - %(levelname)s - %(message)s')\n",
    "\n",
    "\n",
    "logger = logging.getLogger('module')\n",
    "\n",
    "\n",
    "# Create a file handler for the logger\n",
    "file_handler = logging.FileHandler('module.log')\n",
    "# Set the desired log level\n",
    "file_handler.setLevel(logging.DEBUG)\n",
    "# Create a formatter for the log messages\n",
    "formatter = logging.Formatter('%(asctime)s - %(levelname)s - %(message)s')\n",
    "# Attach the formatter to the handler\n",
    "file_handler.setFormatter(formatter)\n",
    "# Add the handler to the logger\n",
    "logger.addHandler(file_handler)\n",
    "\n",
    "\n",
    "logger.debug(\"This is a debug message.\")\n",
    "logger.info(\"This is an info message.\")\n",
    "logger.warning(\"This is a warning message.\")"
   ]
  },
  {
   "cell_type": "markdown",
   "metadata": {},
   "source": [
    "# 9. What is the difference between the logging and print statements in Python? When should you use logging over print statements in a real-world application?\n",
    "\n",
    "i)Logging is a systematic way to record events,information abouth the programs working,where as print statement are used for displaying values messages and information(this are not saved)\n",
    "\n",
    "ii) logs are divided into levels as per their significance,where as print statemnets are simple output statements.\n",
    "\n",
    "iii) logging can give messages according to importance level and give a detailed buf report, where as print statements cant.\n",
    "\n",
    "iv) logging logs everthing including log levels,message,line number,destinations,formating etc,where as print statement are less flexible in terms of control\n",
    "\n",
    "Real world examples: \n",
    "i) application of login user: cannot display the time,user name, and sometimes password, these are saved in log files which are running in the backend.\n",
    "\n",
    "ii)time of developing an application the app is monitored,diagnoes issue and record events without disturbing the user.\n",
    "\n",
    "iii) if a system or application crashed or terminates to troubleshoot the developer needs the log files for recifying and solving the issue."
   ]
  },
  {
   "cell_type": "markdown",
   "metadata": {},
   "source": [
    "# 10. Write a Python program that logs a message to a file named \"app.log\" with the following requirements:\n",
    "● The log message should be \"Hello, World!\"\n",
    "● The log level should be set to \"INFO.\"\n",
    "● The log file should append new log entries without overwriting previous ones."
   ]
  },
  {
   "cell_type": "code",
   "execution_count": 53,
   "metadata": {},
   "outputs": [],
   "source": [
    "logging.basicConfig(filename='app.log',\n",
    "                    level=logging.info,\n",
    "                    format=\"%(message)s:%(name)s:%(level)s:%(process)s\") # this take the configuration of the logging\n",
    "\n",
    "# level is set to INFO\n",
    "# format is given as message:name of log:level of log: process \n",
    "# %s is a place holder same as format statement\n",
    "\n",
    "logging.info(\"Hello World!\")\n",
    "\n"
   ]
  },
  {
   "cell_type": "markdown",
   "metadata": {},
   "source": [
    "# 11. Create a Python program that logs an error message to the console and a file named \"errors.log\" if an exception occurs during the program's execution. The error message should include the exception type and a timestamp."
   ]
  },
  {
   "cell_type": "markdown",
   "metadata": {},
   "source": []
  },
  {
   "cell_type": "code",
   "execution_count": 51,
   "metadata": {},
   "outputs": [],
   "source": [
    "import logging\n",
    "import datetime\n",
    "\n",
    "# Configure the logging settings\n",
    "logging.basicConfig(\n",
    "    filename='errors.log',\n",
    "    level=logging.ERROR,  # Log only error messages and above\n",
    "    format='%(asctime)s [%(levelname)s] %(message)s',\n",
    "    datefmt='%Y-%m-%d %H:%M:%S'\n",
    ") # this creates an error.log file and enters everymessage when an error is occured \n",
    "\n",
    "def main():\n",
    "    try:\n",
    "        num1=int(input(\"1st number: \"))\n",
    "        num2=int(input(\"2nd number: \"))\n",
    "\n",
    "        result = num1/num2 # This will raise a ZeroDivisionError,value error \n",
    "    except Exception: # not specified any error it takes all the errors into consideration and displays the message.\n",
    "        # Log the error message to the console and errors.log file\n",
    "        time=datetime.datetime.now()\n",
    "        logging.error(\"Error: %(Exception)s, Time:%(time)s \")\n",
    "\n",
    "    else: \n",
    "        return result\n",
    "\n",
    "if __name__ == \"__main__\":\n",
    "    main()\n"
   ]
  },
  {
   "cell_type": "code",
   "execution_count": null,
   "metadata": {},
   "outputs": [],
   "source": []
  },
  {
   "cell_type": "markdown",
   "metadata": {},
   "source": []
  },
  {
   "cell_type": "code",
   "execution_count": null,
   "metadata": {},
   "outputs": [],
   "source": [
    "\n"
   ]
  }
 ],
 "metadata": {
  "kernelspec": {
   "display_name": "base",
   "language": "python",
   "name": "python3"
  },
  "language_info": {
   "codemirror_mode": {
    "name": "ipython",
    "version": 3
   },
   "file_extension": ".py",
   "mimetype": "text/x-python",
   "name": "python",
   "nbconvert_exporter": "python",
   "pygments_lexer": "ipython3",
   "version": "3.10.9"
  },
  "orig_nbformat": 4
 },
 "nbformat": 4,
 "nbformat_minor": 2
}
