{
 "cells": [
  {
   "cell_type": "markdown",
   "metadata": {},
   "source": [
    "# 1. What is the role of try and exception block?\n",
    "\n",
    "These blocks are used for execption handling. There are error which may occur in the code block to avoid those and to code to  or terminate. to know where the error has occured in the block."
   ]
  },
  {
   "cell_type": "markdown",
   "metadata": {},
   "source": [
    " # What is the syntax for a basic try-except block?\n",
    " The basic synatax is : "
   ]
  },
  {
   "cell_type": "code",
   "execution_count": null,
   "metadata": {},
   "outputs": [],
   "source": [
    "try:\n",
    "    # block of code\n",
    "except: #Error that may occur\n",
    "    # Message or method which is to be resulted after the error occurs\n",
    "    # So that the user may understand where exactly the error has occured "
   ]
  },
  {
   "cell_type": "markdown",
   "metadata": {},
   "source": [
    "# 3. What happens if an exception occurs inside a try block and there is no matching except block?\n",
    "if the exception handling hs no mathcing except block then the python handling system goes through all the errors in built and matches the error and gives the acutal message (In-built) and terminate."
   ]
  },
  {
   "cell_type": "code",
   "execution_count": 24,
   "metadata": {},
   "outputs": [
    {
     "ename": "NameError",
     "evalue": "name 'names' is not defined",
     "output_type": "error",
     "traceback": [
      "\u001b[1;31m---------------------------------------------------------------------------\u001b[0m",
      "\u001b[1;31mNameError\u001b[0m                                 Traceback (most recent call last)",
      "Cell \u001b[1;32mIn[24], line 4\u001b[0m\n\u001b[0;32m      2\u001b[0m \u001b[39mtry\u001b[39;00m:\n\u001b[0;32m      3\u001b[0m    name\u001b[39m=\u001b[39m\u001b[39m\"\u001b[39m\u001b[39mAbhishek\u001b[39m\u001b[39m\"\u001b[39m\n\u001b[1;32m----> 4\u001b[0m    \u001b[39mprint\u001b[39m(names)\n\u001b[0;32m      5\u001b[0m \u001b[39mexcept\u001b[39;00m \u001b[39mZeroDivisionError\u001b[39;00m: \u001b[39m# it is a Name Error and given as zero division error\u001b[39;00m\n\u001b[0;32m      6\u001b[0m    \u001b[39mprint\u001b[39m(\u001b[39m\"\u001b[39m\u001b[39mzero divion, Cant divide by zero\u001b[39m\u001b[39m\"\u001b[39m)\n",
      "\u001b[1;31mNameError\u001b[0m: name 'names' is not defined"
     ]
    }
   ],
   "source": [
    " # example \n",
    "try:\n",
    "    name=\"Abhishek\"\n",
    "    print(names)\n",
    "except ZeroDivisionError: # it is a Name Error and given as zero division error\n",
    "    print(\"zero divion, Cant divide by zero\") \n",
    "\n",
    "    # so the python goes through all and gives the highest priority in built output and terminate"
   ]
  },
  {
   "cell_type": "markdown",
   "metadata": {},
   "source": [
    "# 4. What is the difference between using a bare except block and specifying a specific exception type?\n",
    "\n"
   ]
  },
  {
   "cell_type": "markdown",
   "metadata": {},
   "source": []
  },
  {
   "cell_type": "code",
   "execution_count": 25,
   "metadata": {},
   "outputs": [
    {
     "name": "stdout",
     "output_type": "stream",
     "text": [
      "zero divion, Cant divide by zero\n"
     ]
    }
   ],
   "source": [
    " # Bare exception example \n",
    "try:\n",
    "    name=\"Abhishek\"\n",
    "    print(names)\n",
    "except: # it is a Name Error and given as Bare which means any error occur irrespective of type this gives the message given.\n",
    "    print(\"zero divion, Cant divide by zero\") \n"
   ]
  },
  {
   "cell_type": "code",
   "execution_count": 26,
   "metadata": {},
   "outputs": [
    {
     "name": "stdout",
     "output_type": "stream",
     "text": [
      "zero divion, Cant divide by zero\n"
     ]
    }
   ],
   "source": [
    "# Specific exception\n",
    "try:\n",
    "    result=5/0\n",
    "except ZeroDivisionError: \n",
    "    print(\"zero divion, Cant divide by zero\") \n",
    "\n",
    "    # the name itself explains, here the programmer has given a specific error name which may occur while running the code.\n",
    "    # if the error occurs then the code gives the customized message by user, other than this error the tool will give the in built message and terminate"
   ]
  },
  {
   "cell_type": "markdown",
   "metadata": {},
   "source": [
    "# 5. Can you have nested try-except blocks in Python? If yes, then give an example.\n",
    "yes, it is possible"
   ]
  },
  {
   "cell_type": "code",
   "execution_count": 27,
   "metadata": {},
   "outputs": [
    {
     "name": "stdout",
     "output_type": "stream",
     "text": [
      "Result: 1.0\n"
     ]
    }
   ],
   "source": [
    "try:\n",
    "    num1=int(input(\"Enter the 1st number: \"))  \n",
    "    num2=int(input(\"Enter the 2nd number: \"))\n",
    "\n",
    "    # Nested block\n",
    "    try:  #  if the numbers are in interger this block will iterate\n",
    "        result=num1/num2\n",
    "        print(f\"Result: {result}\")\n",
    "    except ZeroDivisionError: # ig the number contains 0 this block iterates and gives the message\n",
    "        print(\"The number cannot be divided by Zero \\nPlease enter a value greater than 0\")\n",
    "\n",
    "except ValueError: # if the number are not in interger then this block iterates and gives the message, Value error is that 2 diff types(int and float) cant bbr divided.\n",
    "    print(\"please Enter the values in integer type \")"
   ]
  },
  {
   "cell_type": "markdown",
   "metadata": {},
   "source": [
    "# 6. Can we use multiple exception blocks, if yes then give an example."
   ]
  },
  {
   "cell_type": "code",
   "execution_count": 28,
   "metadata": {},
   "outputs": [
    {
     "name": "stdout",
     "output_type": "stream",
     "text": [
      "Result: 1.0\n"
     ]
    }
   ],
   "source": [
    "try:  # if the numbers are in interger this block will iterate \n",
    "        num1=int(input(\"Enter the 1st number: \"))  \n",
    "        num2=int(input(\"Enter the 2nd number: \"))\n",
    "        result=num1/num2\n",
    "        print(f\"Result: {result}\")\n",
    "except ZeroDivisionError: # if the number contains 0 this block iterates and gives the message\n",
    "        print(\"The number cannot be divided by Zero \\nPlease enter a value greater than 0\")\n",
    "\n",
    "except ValueError: # if the number are not in interger then this block iterates and gives the message, Value error is that 2 diff types(int and float) cant bbr divided.\n",
    "    print(\"please Enter the values in integer type \")\n",
    "\n",
    "except NameError: # This occurs when there is mistake in names ex: results or number1 or number2 \n",
    "       print(\"please check the name given\")"
   ]
  },
  {
   "cell_type": "markdown",
   "metadata": {},
   "source": [
    "# 7. Write the reason due to which following errors are raised:\n",
    "\n",
    "# EOFError (end of line)\n",
    "This error occurs when the program is exhausted reading a file or input functions.\n",
    "\n",
    "# FloatingPointError\n",
    "It occurs when the mathematical equation has a large or near to infinity as the result. Value is to long to be represented as flaotting number.\n",
    "\n",
    "# IndexError\n",
    "It occurs when an index is accessed,index is not present in the list or string, which means the asked index number is out of range as it greater or equal to length of the list or string.\n",
    "\n",
    "# MemoryError\n",
    "This error is raised when there's not enough memory available to allocate for an object or an operation. It typically occurs when you're working with large data sets or performing memory-intensive operations.\n",
    "\n",
    "# OverflowError\n",
    "This error occurs when a mathematical operation produces a result that is too large to be represented in interger or float value.\n",
    "\n",
    "# TabError\n",
    "This occurs when a function gets an argument and has issue with indentation while mixing tabs and sapaces.\n",
    "\n",
    "# ValueError\n",
    "This error occurs when the functions gets an arguments in 2 differnt type of data type(int and float) or it is out of range.\n",
    "\n"
   ]
  },
  {
   "cell_type": "markdown",
   "metadata": {},
   "source": [
    "# 8. Write code for the following given scenario and add try-exception block to it.\n",
    "\n",
    "# a. Program to divide two numbers"
   ]
  },
  {
   "cell_type": "code",
   "execution_count": null,
   "metadata": {},
   "outputs": [],
   "source": [
    "try:  # if the numbers are in interger this block will iterate \n",
    "        num1=int(input(\"Enter the 1st number: \"))  \n",
    "        num2=int(input(\"Enter the 2nd number: \"))\n",
    "        result=num1/num2\n",
    "        print(f\"Result: {result}\")\n",
    "except ZeroDivisionError: # if the number contains 0 this block iterates and gives the message\n",
    "        print(\"The number cannot be divided by Zero \\nPlease enter a value greater than 0\")\n"
   ]
  },
  {
   "cell_type": "markdown",
   "metadata": {},
   "source": [
    "# b. Program to convert a string to an integer"
   ]
  },
  {
   "cell_type": "code",
   "execution_count": 21,
   "metadata": {},
   "outputs": [
    {
     "name": "stdout",
     "output_type": "stream",
     "text": [
      "Integer:  5\n",
      "<class 'str'>\n",
      "<class 'int'>\n"
     ]
    }
   ],
   "source": [
    "try:\n",
    "    string= str(input(\"enter the number: \")) # string type of input\n",
    "    num=int(string) # converting string to integer\n",
    "    print(\"Integer: \",num)\n",
    "\n",
    "    print(type(string)) #checking the data type\n",
    "    print(type(num))\n",
    "\n",
    "except ValueError: # if error occurs the this iterates\n",
    "    print(\"Please enter the value in interger type\")"
   ]
  },
  {
   "cell_type": "markdown",
   "metadata": {},
   "source": [
    "# c. Program to access an element in a list"
   ]
  },
  {
   "cell_type": "code",
   "execution_count": null,
   "metadata": {},
   "outputs": [],
   "source": [
    "try:\n",
    "    index=int(input(\"Enter range: \"))\n",
    "    my_list = [1, 2, 3, 4, 5]\n",
    "    if my_list[index] in my_list: # checking if condition, if present it gives the value or else error\n",
    "        print(\"Value at index:\",my_list[index])\n",
    "except IndexError: # if error this block runs\n",
    "        print(\"Error: Index out of range.\")"
   ]
  },
  {
   "cell_type": "markdown",
   "metadata": {},
   "source": [
    "# d. Program to handle a specific exception"
   ]
  },
  {
   "cell_type": "code",
   "execution_count": 22,
   "metadata": {},
   "outputs": [
    {
     "name": "stdout",
     "output_type": "stream",
     "text": [
      "This is without error amswer: ineuron\n",
      "Please use the correct name\n"
     ]
    }
   ],
   "source": [
    " # example \n",
    "try:\n",
    "    name=\"ineuron\"\n",
    "    print(f\"This is without error amswer: {name}\") # to differntiate as the name look similar but are not.\n",
    "    print(f\"This is with error amswer: {names}\") # this gives an error and except block is iterated\n",
    "\n",
    "except NameError: # it is a Name Error \n",
    "    print(\"Please use the correct name\") # this runs when the error occurs\n"
   ]
  },
  {
   "cell_type": "markdown",
   "metadata": {},
   "source": [
    "# e.  Program to handle any exception"
   ]
  },
  {
   "cell_type": "code",
   "execution_count": 23,
   "metadata": {},
   "outputs": [
    {
     "name": "stdout",
     "output_type": "stream",
     "text": [
      "An error occurred:\n"
     ]
    }
   ],
   "source": [
    "try:\n",
    "    num1 = int(input(\"Enter a number: \"))\n",
    "    num2 = int(input(\"Enter another number: \"))\n",
    "    result = num1 / num2\n",
    "    print(\"Result:\", result)\n",
    "except Exception: # this take all exception not a specific exception and give the customized message\n",
    "    print(\"Oops an error occurred\")\n"
   ]
  },
  {
   "cell_type": "code",
   "execution_count": null,
   "metadata": {},
   "outputs": [],
   "source": []
  }
 ],
 "metadata": {
  "kernelspec": {
   "display_name": "base",
   "language": "python",
   "name": "python3"
  },
  "language_info": {
   "codemirror_mode": {
    "name": "ipython",
    "version": 3
   },
   "file_extension": ".py",
   "mimetype": "text/x-python",
   "name": "python",
   "nbconvert_exporter": "python",
   "pygments_lexer": "ipython3",
   "version": "3.10.9"
  },
  "orig_nbformat": 4
 },
 "nbformat": 4,
 "nbformat_minor": 2
}
