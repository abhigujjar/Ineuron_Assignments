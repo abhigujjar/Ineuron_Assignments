{
 "cells": [
  {
   "cell_type": "markdown",
   "metadata": {},
   "source": [
    "# 1. What is the role of try and exception block?\n",
    "\n",
    "These blocks are used for execption handling. There are error which may occur in the code block to avoid those and to code to  or terminate. to know where the error has occured in the block."
   ]
  },
  {
   "cell_type": "markdown",
   "metadata": {},
   "source": [
    " # What is the syntax for a basic try-except block?\n",
    " The basic synatax is : "
   ]
  },
  {
   "cell_type": "code",
   "execution_count": 46,
   "metadata": {},
   "outputs": [
    {
     "name": "stdout",
     "output_type": "stream",
     "text": [
      "Pkease enter the valid type\n"
     ]
    }
   ],
   "source": [
    "try:\n",
    "    N=int(input(\"number\"))\n",
    "    res=N*20\n",
    "    print(\"results: \",res)\n",
    "\n",
    "except ValueError: #Error that may occur\n",
    "    print(\"Pkease enter the valid type\")        # Message or method which is to be resulted after the error occurs\n",
    "    # So that the user may understand where exactly the error has occured "
   ]
  },
  {
   "cell_type": "markdown",
   "metadata": {},
   "source": [
    "# 3. What happens if an exception occurs inside a try block and there is no matching except block?\n",
    "if the exception handling hs no mathcing except block then the python handling system goes through all the errors in built and matches the error and gives the acutal message (In-built) and terminate."
   ]
  },
  {
   "cell_type": "code",
   "execution_count": 24,
   "metadata": {},
   "outputs": [
    {
     "ename": "NameError",
     "evalue": "name 'names' is not defined",
     "output_type": "error",
     "traceback": [
      "\u001b[1;31m---------------------------------------------------------------------------\u001b[0m",
      "\u001b[1;31mNameError\u001b[0m                                 Traceback (most recent call last)",
      "Cell \u001b[1;32mIn[24], line 4\u001b[0m\n\u001b[0;32m      2\u001b[0m \u001b[39mtry\u001b[39;00m:\n\u001b[0;32m      3\u001b[0m    name\u001b[39m=\u001b[39m\u001b[39m\"\u001b[39m\u001b[39mAbhishek\u001b[39m\u001b[39m\"\u001b[39m\n\u001b[1;32m----> 4\u001b[0m    \u001b[39mprint\u001b[39m(names)\n\u001b[0;32m      5\u001b[0m \u001b[39mexcept\u001b[39;00m \u001b[39mZeroDivisionError\u001b[39;00m: \u001b[39m# it is a Name Error and given as zero division error\u001b[39;00m\n\u001b[0;32m      6\u001b[0m    \u001b[39mprint\u001b[39m(\u001b[39m\"\u001b[39m\u001b[39mzero divion, Cant divide by zero\u001b[39m\u001b[39m\"\u001b[39m)\n",
      "\u001b[1;31mNameError\u001b[0m: name 'names' is not defined"
     ]
    }
   ],
   "source": [
    " # example \n",
    "try:\n",
    "    name=\"Abhishek\"\n",
    "    print(names)\n",
    "except ZeroDivisionError: # it is a Name Error and given as zero division error\n",
    "    print(\"zero divion, Cant divide by zero\") \n",
    "\n",
    "    # so the python goes through all and gives the highest priority in built output and terminate"
   ]
  },
  {
   "cell_type": "markdown",
   "metadata": {},
   "source": [
    "# 4. What is the difference between using a bare except block and specifying a specific exception type?\n",
    "\n"
   ]
  },
  {
   "cell_type": "markdown",
   "metadata": {},
   "source": [
    "# Bare exception:  \n",
    "Here the except is not given as such error  in which it may occur. bare means nothing. no eception given for the block to decode as in which type of error.\n",
    "if any occur irrespective of the error type this bare except gives the customized message for any occurrence.\n",
    "\n",
    "# Specific exception type\n",
    "Here the exception is specified as such which error may occur if the occured error is same as specified it gives the customized message as output, else it goes through all error and terminates with the priority error.   "
   ]
  },
  {
   "cell_type": "code",
   "execution_count": 25,
   "metadata": {},
   "outputs": [
    {
     "name": "stdout",
     "output_type": "stream",
     "text": [
      "zero divion, Cant divide by zero\n"
     ]
    }
   ],
   "source": [
    " # Bare exception example \n",
    "try:\n",
    "    name=\"Abhishek\"\n",
    "    print(names)\n",
    "except: # it is a Name Error and given as Bare which means any error occur irrespective of type this gives the message given.\n",
    "    print(\"zero divion, Cant divide by zero\") \n"
   ]
  },
  {
   "cell_type": "code",
   "execution_count": 26,
   "metadata": {},
   "outputs": [
    {
     "name": "stdout",
     "output_type": "stream",
     "text": [
      "zero divion, Cant divide by zero\n"
     ]
    }
   ],
   "source": [
    "# Specific exception\n",
    "try:\n",
    "    result=5/0\n",
    "except ZeroDivisionError: \n",
    "    print(\"zero divion, Cant divide by zero\") \n",
    "\n",
    "    # the name itself explains, here the programmer has given a specific error name which may occur while running the code.\n",
    "    # if the error occurs then the code gives the customized message by user, other than this error the tool will give the in built message and terminate"
   ]
  },
  {
   "cell_type": "markdown",
   "metadata": {},
   "source": [
    "# 5. Can you have nested try-except blocks in Python? If yes, then give an example.\n",
    "yes, it is possible"
   ]
  },
  {
   "cell_type": "code",
   "execution_count": 27,
   "metadata": {},
   "outputs": [
    {
     "name": "stdout",
     "output_type": "stream",
     "text": [
      "Result: 1.0\n"
     ]
    }
   ],
   "source": [
    "try:\n",
    "    num1=int(input(\"Enter the 1st number: \"))  \n",
    "    num2=int(input(\"Enter the 2nd number: \"))\n",
    "\n",
    "    # Nested block\n",
    "    try:  #  if the numbers are in interger this block will iterate\n",
    "        result=num1/num2\n",
    "        print(f\"Result: {result}\")\n",
    "    except ZeroDivisionError: # ig the number contains 0 this block iterates and gives the message\n",
    "        print(\"The number cannot be divided by Zero \\nPlease enter a value greater than 0\")\n",
    "\n",
    "except ValueError: # if the number are not in interger then this block iterates and gives the message, Value error is that 2 diff types(int and float) cant bbr divided.\n",
    "    print(\"please Enter the values in integer type \")"
   ]
  },
  {
   "cell_type": "markdown",
   "metadata": {},
   "source": [
    "# 6. Can we use multiple exception blocks, if yes then give an example.\n",
    "Yes, we can have multiple exception boxes.\n",
    "As seen in the example 3 errors are given if any error occurs and if it is specific to  these errors then the message will be diplayed as output or else other error then the program terminates."
   ]
  },
  {
   "cell_type": "code",
   "execution_count": 4,
   "metadata": {},
   "outputs": [
    {
     "name": "stdout",
     "output_type": "stream",
     "text": [
      "Result: 2.5\n",
      "Name Error.please check the name given\n"
     ]
    }
   ],
   "source": [
    "try:  # if the numbers are in interger this block will iterate \n",
    "        num1=int(input(\"Enter the 1st number: \"))  \n",
    "        num2=int(input(\"Enter the 2nd number: \"))\n",
    "        result=num1/num2\n",
    "        print(f\"Result: {result}\")\n",
    "        print(f\"To get an error example: {num12 }\") # here the Name error activates and givens out put as message\n",
    "except ZeroDivisionError: # if the number contains 0 this block iterates and gives the message\n",
    "        print(\"The number cannot be divided by Zero \\nPlease enter a value greater than 0\")\n",
    "\n",
    "except ValueError: # if the number are not in interger then this block iterates and gives the message, Value error is that 2 diff types(int and float) cant bbr divided.\n",
    "    print(\"Value error.Please Enter the values in integer type \")\n",
    "\n",
    "except NameError: # This occurs when there is mistake in names ex: results or number1 or number2 \n",
    "       print(\"Name Error.please check the name given\")"
   ]
  },
  {
   "cell_type": "markdown",
   "metadata": {},
   "source": [
    "# 7. Write the reason due to which following errors are raised:\n",
    "\n",
    "# EOFError (end of line)\n",
    "This error occurs when the program is exhausted reading a file or input functions.It occurs when you read the file and there is no data to read.\n",
    "\n",
    "# FloatingPointError\n",
    "It occurs when the mathematical equation has a large or near to infinity as the result. Value is to long to be represented as flaotting number.\n",
    "\n",
    "# IndexError\n",
    "It occurs when an index is accessed,index is not present in the list or string, which means the asked index number is out of range as it greater or equal to length of the list or string.\n",
    "\n",
    "\n",
    "# MemoryError\n",
    "This error is raised when there's not enough memory available to allocate for an object or an operation. It typically occurs when you're working with large data sets or performing memory-intensive operations.\n",
    "\n",
    "# OverflowError\n",
    "This error occurs when a mathematical operation produces a result that is too large to be represented in interger or float value.\n",
    "\n",
    "# TabError\n",
    "This occurs when a function gets an argument and has issue with indentation while mixing tabs and sapaces.\n",
    "\n",
    "# ValueError\n",
    "This error occurs when the functions gets an arguments in 2 differnt type of data type(int and float) or it is out of range.\n",
    "\n"
   ]
  },
  {
   "cell_type": "code",
   "execution_count": 9,
   "metadata": {},
   "outputs": [],
   "source": [
    "#File not found error\n",
    "file = open(\"empty.txt\", \"r\")\n",
    "data = file.readline()  # Reading a line from a file which doesnt exists in th directry \n",
    "\n"
   ]
  },
  {
   "cell_type": "code",
   "execution_count": 12,
   "metadata": {},
   "outputs": [
    {
     "ename": "EOFError",
     "evalue": "",
     "output_type": "error",
     "traceback": [
      "\u001b[1;31m---------------------------------------------------------------------------\u001b[0m",
      "\u001b[1;31mEOFError\u001b[0m                                  Traceback (most recent call last)",
      "Cell \u001b[1;32mIn[12], line 4\u001b[0m\n\u001b[0;32m      2\u001b[0m data \u001b[39m=\u001b[39m file\u001b[39m.\u001b[39mreadline()\n\u001b[0;32m      3\u001b[0m \u001b[39mif\u001b[39;00m data\u001b[39m==\u001b[39m\u001b[39m'\u001b[39m\u001b[39m'\u001b[39m:\n\u001b[1;32m----> 4\u001b[0m     \u001b[39mraise\u001b[39;00m \u001b[39mEOFError\u001b[39;00m\n",
      "\u001b[1;31mEOFError\u001b[0m: "
     ]
    }
   ],
   "source": [
    "# EOF Error\n",
    "file = open(\"empty.txt\", \"r\")\n",
    "data = file.readline()\n",
    "if data=='':\n",
    "    raise EOFError  # Reading a line from an empty file can result in EOFError.\n"
   ]
  },
  {
   "cell_type": "code",
   "execution_count": 25,
   "metadata": {},
   "outputs": [
    {
     "ename": "OverflowError",
     "evalue": "(34, 'Result too large')",
     "output_type": "error",
     "traceback": [
      "\u001b[1;31m---------------------------------------------------------------------------\u001b[0m",
      "\u001b[1;31mOverflowError\u001b[0m                             Traceback (most recent call last)",
      "Cell \u001b[1;32mIn[25], line 2\u001b[0m\n\u001b[0;32m      1\u001b[0m \u001b[39m# re=2.0/0\u001b[39;00m\n\u001b[1;32m----> 2\u001b[0m result \u001b[39m=\u001b[39m\u001b[39m2.0\u001b[39;49m\u001b[39m*\u001b[39;49m\u001b[39m*\u001b[39;49m\u001b[39m100000\u001b[39;49m\u001b[39m# Attempting to divide by zero results in FloatingPointError.\u001b[39;00m\n\u001b[0;32m      3\u001b[0m result\n",
      "\u001b[1;31mOverflowError\u001b[0m: (34, 'Result too large')"
     ]
    }
   ],
   "source": [
    "# OverflowError\n",
    "result =2.0**100000# Attempting to divide by zero results in FloatingPointError.\n",
    "result\n"
   ]
  },
  {
   "cell_type": "code",
   "execution_count": 26,
   "metadata": {},
   "outputs": [
    {
     "ename": "IndexError",
     "evalue": "list index out of range",
     "output_type": "error",
     "traceback": [
      "\u001b[1;31m---------------------------------------------------------------------------\u001b[0m",
      "\u001b[1;31mIndexError\u001b[0m                                Traceback (most recent call last)",
      "Cell \u001b[1;32mIn[26], line 3\u001b[0m\n\u001b[0;32m      1\u001b[0m \u001b[39m# IndexError\u001b[39;00m\n\u001b[0;32m      2\u001b[0m lit\u001b[39m=\u001b[39m[\u001b[39m1\u001b[39m,\u001b[39m2\u001b[39m]\n\u001b[1;32m----> 3\u001b[0m \u001b[39mprint\u001b[39m(lit[\u001b[39m3\u001b[39;49m])\n",
      "\u001b[1;31mIndexError\u001b[0m: list index out of range"
     ]
    }
   ],
   "source": [
    "# IndexError\n",
    "lit=[1,2] # as the len of list is 2\n",
    "print(lit[3]) # and given value is more than teh lenght so index error"
   ]
  },
  {
   "cell_type": "code",
   "execution_count": 28,
   "metadata": {},
   "outputs": [
    {
     "ename": "IndentationError",
     "evalue": "expected an indented block after 'for' statement on line 2 (1842835894.py, line 3)",
     "output_type": "error",
     "traceback": [
      "\u001b[1;36m  Cell \u001b[1;32mIn[28], line 3\u001b[1;36m\u001b[0m\n\u001b[1;33m    print(i)\u001b[0m\n\u001b[1;37m    ^\u001b[0m\n\u001b[1;31mIndentationError\u001b[0m\u001b[1;31m:\u001b[0m expected an indented block after 'for' statement on line 2\n"
     ]
    }
   ],
   "source": [
    "# IndentationError\n",
    "for i in range(5): # the print() should come inside the loop so the program can run and give output\n",
    "print(i)"
   ]
  },
  {
   "cell_type": "code",
   "execution_count": 29,
   "metadata": {},
   "outputs": [
    {
     "ename": "ValueError",
     "evalue": "invalid literal for int() with base 10: 'hi'",
     "output_type": "error",
     "traceback": [
      "\u001b[1;31m---------------------------------------------------------------------------\u001b[0m",
      "\u001b[1;31mValueError\u001b[0m                                Traceback (most recent call last)",
      "Cell \u001b[1;32mIn[29], line 2\u001b[0m\n\u001b[0;32m      1\u001b[0m \u001b[39m# Value Error\u001b[39;00m\n\u001b[1;32m----> 2\u001b[0m num\u001b[39m=\u001b[39m\u001b[39mint\u001b[39;49m(\u001b[39m\"\u001b[39;49m\u001b[39mhi\u001b[39;49m\u001b[39m\"\u001b[39;49m)\n",
      "\u001b[1;31mValueError\u001b[0m: invalid literal for int() with base 10: 'hi'"
     ]
    }
   ],
   "source": [
    "# Value Error\n",
    "num=int(\"hi\") # as the value given is string and cant be converted to int value "
   ]
  },
  {
   "cell_type": "code",
   "execution_count": 34,
   "metadata": {},
   "outputs": [
    {
     "ename": "TabError",
     "evalue": "inconsistent use of tabs and spaces in indentation (2631950167.py, line 3)",
     "output_type": "error",
     "traceback": [
      "\u001b[1;36m  Cell \u001b[1;32mIn[34], line 3\u001b[1;36m\u001b[0m\n\u001b[1;33m    print(\"This line starts with a tab and then spaces.\")\u001b[0m\n\u001b[1;37m    ^\u001b[0m\n\u001b[1;31mTabError\u001b[0m\u001b[1;31m:\u001b[0m inconsistent use of tabs and spaces in indentation\n"
     ]
    }
   ],
   "source": [
    "# Tab Error\n",
    "def function():\n",
    "    print(\"This line has a mix of tabs and spaces.\")\n",
    "   \tprint(\"This line starts with a tab and then spaces.\")\n"
   ]
  },
  {
   "cell_type": "markdown",
   "metadata": {},
   "source": [
    "# 8. Write code for the following given scenario and add try-exception block to it.\n",
    "\n",
    "# a. Program to divide two numbers"
   ]
  },
  {
   "cell_type": "code",
   "execution_count": 53,
   "metadata": {},
   "outputs": [
    {
     "name": "stdout",
     "output_type": "stream",
     "text": [
      "Result: 1.1666666666666667\n",
      "\n",
      "\n",
      "\n",
      "Typr Error: Please enter both the values in same data type as int or float\n"
     ]
    }
   ],
   "source": [
    "try:  # if the numbers are in interger this block will iterate \n",
    "        num1=int(input(\"Enter the 1st number: \"))  # input from the user \n",
    "        num2=int(input(\"Enter the 2nd number: \"))\n",
    "        result=num1/num2\n",
    "        print(f\"Result: {result}\")\n",
    "        \n",
    "        print(\"\\n\\n\")\n",
    "        print(f\"{results}\")\n",
    "except ZeroDivisionError: # if the number contains 0 this block iterates and gives the message\n",
    "        print(\"The number cannot be divided by Zero \\nPlease enter a value greater than 0\")\n",
    "except ValueError:\n",
    "        print(\"Value Error: Please enter the correct type of value\")\n",
    "except NameError:\n",
    "        print(\"Name Error: plesae check the name\")\n",
    "except TypeError:\n",
    "        print(\"Typr Error: Please enter both the values in same data type as int or float\")\n",
    "\n",
    "\n"
   ]
  },
  {
   "cell_type": "code",
   "execution_count": 47,
   "metadata": {},
   "outputs": [
    {
     "ename": "TypeError",
     "evalue": "unsupported operand type(s) for +: 'int' and 'str'",
     "output_type": "error",
     "traceback": [
      "\u001b[1;31m---------------------------------------------------------------------------\u001b[0m",
      "\u001b[1;31mTypeError\u001b[0m                                 Traceback (most recent call last)",
      "Cell \u001b[1;32mIn[47], line 4\u001b[0m\n\u001b[0;32m      1\u001b[0m num1 \u001b[39m=\u001b[39m \u001b[39m5\u001b[39m\n\u001b[0;32m      2\u001b[0m num2 \u001b[39m=\u001b[39m \u001b[39m\"\u001b[39m\u001b[39m10\u001b[39m\u001b[39m\"\u001b[39m\n\u001b[1;32m----> 4\u001b[0m result \u001b[39m=\u001b[39m num1 \u001b[39m+\u001b[39;49m num2  \u001b[39m# This line will raise a TypeError\u001b[39;00m\n\u001b[0;32m      5\u001b[0m \u001b[39mprint\u001b[39m(result)\n",
      "\u001b[1;31mTypeError\u001b[0m: unsupported operand type(s) for +: 'int' and 'str'"
     ]
    }
   ],
   "source": [
    "\n"
   ]
  },
  {
   "cell_type": "markdown",
   "metadata": {},
   "source": [
    "# b. Program to convert a string to an integer"
   ]
  },
  {
   "cell_type": "code",
   "execution_count": 21,
   "metadata": {},
   "outputs": [
    {
     "name": "stdout",
     "output_type": "stream",
     "text": [
      "Integer:  5\n",
      "<class 'str'>\n",
      "<class 'int'>\n"
     ]
    }
   ],
   "source": [
    "try:\n",
    "    string= str(input(\"enter the number: \")) # string type of input\n",
    "    num=int(string) # converting string to integer\n",
    "    print(\"Integer: \",num)\n",
    "\n",
    "    print(type(string)) #checking the data type\n",
    "    print(type(num))\n",
    "\n",
    "except ValueError: # if error occurs the this iterates\n",
    "    print(\"Please enter the value in interger type\")"
   ]
  },
  {
   "cell_type": "markdown",
   "metadata": {},
   "source": [
    "# c. Program to access an element in a list"
   ]
  },
  {
   "cell_type": "code",
   "execution_count": null,
   "metadata": {},
   "outputs": [],
   "source": [
    "try:\n",
    "    index=int(input(\"Enter range: \"))\n",
    "    my_list = [1, 2, 3, 4, 5]\n",
    "    if my_list[index] in my_list: # checking if condition, if present it gives the value or else error\n",
    "        print(\"Value at index:\",my_list[index])\n",
    "except IndexError: # if error this block runs\n",
    "        print(\"Error: Index out of range.\")"
   ]
  },
  {
   "cell_type": "markdown",
   "metadata": {},
   "source": [
    "# d. Program to handle a specific exception"
   ]
  },
  {
   "cell_type": "code",
   "execution_count": 22,
   "metadata": {},
   "outputs": [
    {
     "name": "stdout",
     "output_type": "stream",
     "text": [
      "This is without error amswer: ineuron\n",
      "Please use the correct name\n"
     ]
    }
   ],
   "source": [
    " # example \n",
    "try:\n",
    "    name=\"ineuron\" # assigning a string to the variable\n",
    "    print(f\"This is without error amswer: {name}\") # to differntiate as the name look similar but are not.\n",
    "    print(f\"This is with error amswer: {names}\") # this gives an error and except block is iterated\n",
    "\n",
    "except NameError: # it is a Name Error \n",
    "    print(\"Please use the correct name\") # this runs when the error occurs\n"
   ]
  },
  {
   "cell_type": "markdown",
   "metadata": {},
   "source": [
    "# e.  Program to handle any exception"
   ]
  },
  {
   "cell_type": "code",
   "execution_count": 56,
   "metadata": {},
   "outputs": [
    {
     "name": "stdout",
     "output_type": "stream",
     "text": [
      "OOPS AN ERROR OCCURED: invalid literal for int() with base 10: '5.2'\n"
     ]
    }
   ],
   "source": [
    "try:\n",
    "    num1 = int(input(\"Enter a number: \")) #inputs from thr user for the numbers\n",
    "    num2 = int(input(\"Enter another number: \"))\n",
    "    result = num1 * num2\n",
    "    print(\"Result:\", result)\n",
    "\n",
    "\n",
    "    print(\"  \\n\\nwith an error occuring O/P \")\n",
    "    print(f\" Error occured! {results} \")\n",
    "except Exception as e: # this take all exception not a specific exception and give customized error name but the message is in built\n",
    "    print(f\"OOPS AN ERROR OCCURED: {e}\")\n",
    " # this gives an ouput "
   ]
  },
  {
   "cell_type": "code",
   "execution_count": 55,
   "metadata": {},
   "outputs": [
    {
     "name": "stdout",
     "output_type": "stream",
     "text": [
      "An error occurred: invalid literal for int() with base 10: '5.3'\n"
     ]
    }
   ],
   "source": [
    "try:\n",
    "    num1 = int(input(\"Enter the 1st number: \"))\n",
    "    num2 = int(input(\"Enter the 2nd number: \"))\n",
    "    \n",
    "    result = num1 / num2  # Division operation\n",
    "    \n",
    "    print(f\"Result: {result}\")\n",
    "    \n",
    "except Exception as e:\n",
    "    print(f\"An error occurred: {e}\")\n"
   ]
  },
  {
   "cell_type": "code",
   "execution_count": null,
   "metadata": {},
   "outputs": [],
   "source": []
  }
 ],
 "metadata": {
  "kernelspec": {
   "display_name": "base",
   "language": "python",
   "name": "python3"
  },
  "language_info": {
   "codemirror_mode": {
    "name": "ipython",
    "version": 3
   },
   "file_extension": ".py",
   "mimetype": "text/x-python",
   "name": "python",
   "nbconvert_exporter": "python",
   "pygments_lexer": "ipython3",
   "version": "3.10.9"
  },
  "orig_nbformat": 4
 },
 "nbformat": 4,
 "nbformat_minor": 2
}
