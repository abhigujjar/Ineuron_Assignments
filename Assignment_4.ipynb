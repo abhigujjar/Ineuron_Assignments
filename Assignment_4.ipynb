{
 "cells": [
  {
   "cell_type": "markdown",
   "metadata": {},
   "source": [
    "## 1. What exactly is []?\n",
    "This is commonly called as square brackets, this denotes an empty list data type that contains no item.\n",
    "\n",
    "## 2. In a list of values stored in a variable called spam, how would you assign the value 'hello' as the third value? (Assume [2, 4, 6, 8, 10] are in spam.)\n",
    "As the index numbers in python starts with 0,replace the 3rd value can be done by\n",
    "spam[2]=\"Hello\"\n",
    "\n",
    "\n",
    "\n",
    "\n",
    "\n"
   ]
  },
  {
   "cell_type": "code",
   "execution_count": 6,
   "metadata": {},
   "outputs": [
    {
     "name": "stdout",
     "output_type": "stream",
     "text": [
      "[2, 4, 'hello', 8, 10]\n"
     ]
    }
   ],
   "source": [
    "spam=[2,4,6,8,10]\n",
    "spam[2]='hello'\n",
    "print(spam)"
   ]
  },
  {
   "cell_type": "markdown",
   "metadata": {},
   "source": [
    "## pretend the spam includes the list ['a','b','c''d'] for the next three queries.\n",
    "\n",
    "\n",
    "## 3. what is the value of spam[int(int('3'* 2) / 11)]?\n",
    "spam[int(int('33')/11)]\n",
    "spam[int(33/11)]\n",
    "spam[3] ='d'\n",
    "\n",
    "spam[-1]='d' #reverse indexing\n",
    "\n",
    "spam[:2] = ['a', 'b']  # slicing of the index  start:end, not considering the end value, in this case only 0,1 \n"
   ]
  },
  {
   "cell_type": "code",
   "execution_count": 5,
   "metadata": {},
   "outputs": [
    {
     "name": "stdout",
     "output_type": "stream",
     "text": [
      "d\n",
      "d\n",
      "['a', 'b']\n"
     ]
    }
   ],
   "source": [
    "spam=['a','b','c','d']\n",
    "\n",
    "print(spam[int(int('3'* 2) / 11)])\n",
    "\n",
    "print(spam[-1])\n",
    "\n",
    "print(spam[:2])\n"
   ]
  },
  {
   "cell_type": "markdown",
   "metadata": {},
   "source": [
    "## Let's pretend bacon has the list [3.14, 'cat',11,'cat',True] for the next three questions.\n",
    "\n",
    "\n"
   ]
  },
  {
   "cell_type": "markdown",
   "metadata": {},
   "source": [
    "# 6. What is the value of bacon.index('cat')?\n",
    "In this case the 1st instance of cat index is output, as the condition is true in the 1st iteration it breaks. "
   ]
  },
  {
   "cell_type": "code",
   "execution_count": 1,
   "metadata": {},
   "outputs": [
    {
     "name": "stdout",
     "output_type": "stream",
     "text": [
      "1\n"
     ]
    }
   ],
   "source": [
    "bacon = [3.14, 'cat', 11, 'cat', True]\n",
    "print(bacon.index('cat'))"
   ]
  },
  {
   "cell_type": "markdown",
   "metadata": {},
   "source": [
    "# 7. How does bacon.append(99) change the look of the list value in bacon? \n",
    "bacon.append() adds the value to the n+1 index of the list and changes the len of the list to n+1"
   ]
  },
  {
   "cell_type": "code",
   "execution_count": 11,
   "metadata": {},
   "outputs": [
    {
     "name": "stdout",
     "output_type": "stream",
     "text": [
      "[3.14, 'cat', 11, 'cat', True, 99]\n"
     ]
    }
   ],
   "source": [
    "bacon.append(99)\n",
    "print(bacon)   "
   ]
  },
  {
   "cell_type": "markdown",
   "metadata": {},
   "source": [
    "## 8. How does bacon.remove('cat') change the look of the list in bacon?\n",
    "This remove the value, in this case it removes the 1st instance of cat, as the condition is true in the 1st iteration it breaks. The 2nd cat item is still in the list."
   ]
  },
  {
   "cell_type": "code",
   "execution_count": 12,
   "metadata": {},
   "outputs": [
    {
     "data": {
      "text/plain": [
       "[3.14, 11, 'cat', True, 99]"
      ]
     },
     "execution_count": 12,
     "metadata": {},
     "output_type": "execute_result"
    }
   ],
   "source": [
    "bacon.remove('cat')\n",
    "bacon"
   ]
  },
  {
   "cell_type": "markdown",
   "metadata": {},
   "source": [
    "## 9. What are the list concatenation and list replication operators?\n",
    "The list \n",
    "concatintion operator is '+'\n",
    "list replication operator is '*'\n"
   ]
  },
  {
   "cell_type": "code",
   "execution_count": 14,
   "metadata": {},
   "outputs": [
    {
     "name": "stdout",
     "output_type": "stream",
     "text": [
      "[1, 2, 3, 4, 5, 6]\n",
      "[1, 2, 3, 1, 2, 3]\n"
     ]
    }
   ],
   "source": [
    "list1=[1,2,3]\n",
    "list2=[4,5,6]\n",
    "\n",
    "#concatination\n",
    "list_concat=list1+list2\n",
    "print(list_concat)\n",
    "\n",
    "#Replication \n",
    "\n",
    "list_rep=list1*2\n",
    "print(list_rep)"
   ]
  },
  {
   "cell_type": "markdown",
   "metadata": {},
   "source": [
    "## 10. What is difference between the list methods append() and insert()?\n",
    "\n",
    "# append()\n",
    "adds the item in the end of the list\n",
    "\n",
    "# insert(index,value)\n",
    "adds the item at a given index."
   ]
  },
  {
   "cell_type": "code",
   "execution_count": 15,
   "metadata": {},
   "outputs": [
    {
     "name": "stdout",
     "output_type": "stream",
     "text": [
      "Append:  [1, 2, 3, 10]\n",
      "inserted:  [4, 5, 'hello', 6]\n"
     ]
    }
   ],
   "source": [
    "list1.append(10)\n",
    "print(\"Append: \",list1)\n",
    "\n",
    "\n",
    "list2.insert(2,\"hello\")\n",
    "print(\"inserted: \",list2)"
   ]
  },
  {
   "cell_type": "markdown",
   "metadata": {},
   "source": [
    "## 11. What are the two methods for removing items from a list?\n",
    "The 2 methods are \n",
    "# remove(value) \n",
    "Removes the value given\n",
    "mandatory to give the value to avoid error\n",
    "# pop(index)\n",
    "removes the value in the given index.\n",
    "if no index is given it removes last index value"
   ]
  },
  {
   "cell_type": "code",
   "execution_count": 16,
   "metadata": {},
   "outputs": [
    {
     "name": "stdout",
     "output_type": "stream",
     "text": [
      "[4, 5, 'hello', 6]\n",
      "removed:  [4, 5, 6]\n",
      "[1, 2, 3, 10]\n",
      "popped out:  [1, 2, 3]\n"
     ]
    }
   ],
   "source": [
    "#remove\n",
    "print(list2)\n",
    "list2.remove(\"hello\")\n",
    "print(\"removed: \",list2)\n",
    "\n",
    "#pop()\n",
    "print(list1)\n",
    "list1.pop(3)\n",
    "print(\"popped out: \",list1)\n"
   ]
  },
  {
   "cell_type": "markdown",
   "metadata": {},
   "source": [
    "## 12. Describe how list values and string values are identical. \n",
    "\n",
    "They are similar in\n",
    "# Indexing:\n",
    "Both list and string can be accesed through indexing\n",
    "# Slicing \n",
    "They can be sliced into portions and extracted\n",
    "# Iteration\n",
    "They can be ierated using loops.\n",
    "# len()\n",
    "Their lengths can be determined \n"
   ]
  },
  {
   "cell_type": "code",
   "execution_count": 26,
   "metadata": {},
   "outputs": [
    {
     "name": "stdout",
     "output_type": "stream",
     "text": [
      "2\n",
      "w\n",
      "Slicing [3, 4, 5, 6]\n",
      "slice llo\n",
      "string items\n",
      "h e l l o   w o r l d \n",
      "\n",
      "list items\n",
      "1 2 3 4 5 6 7 8 9 9 11\n",
      "ineuron\n",
      "INEURON\n"
     ]
    }
   ],
   "source": [
    "#indexing\n",
    "my_list = [1,2,3,4,5,6,7,8,9]\n",
    "my_string = \"hello world\"\n",
    "\n",
    "print(my_list[1])  \n",
    "print(my_string[6])\n",
    "\n",
    "#slicing\n",
    "\n",
    "print(\"Slicing\",my_list[2:6])\n",
    "print(\"slice\",my_string[2:5])\n",
    "\n",
    "#iteration\n",
    "print(\"string items\")\n",
    "for i in my_string:\n",
    "    print(i,end=\" \")\n",
    "\n",
    "print(\"\\n\")\n",
    "\n",
    "print(\"list items\")\n",
    "for i in my_list:\n",
    "    print(i,end=\" \")\n",
    "\n",
    "\n",
    "\n",
    "print(len(my_list),len(my_string))\n",
    "\n",
    "\n",
    "if 'h' in my_string:\n",
    "    print(\"ineuron\")\n",
    "\n",
    "if 2 in my_list:\n",
    "    print(\"INEURON\")\n",
    "\n",
    "\n"
   ]
  },
  {
   "cell_type": "markdown",
   "metadata": {},
   "source": [
    "## 13. Whats the difference between tuples and lists?\n",
    "\n",
    "# tuples \n",
    "* It is an order of elements similar to lists but imutable, cannot be changed.\n",
    "* elements cannot be sorted updated using functions like sort(),append(),pop(),remove\n",
    "* items can be replace using string.replace()\n",
    "ex: String=\"Hello\"\n",
    "    String.replace(\"H\",'P')\n",
    "* denoted by parantheses (  )\n",
    "\n",
    "# lists\n",
    "* These are collection of items which are mutable, can be changed.\n",
    "* elements can be updated, sorted, added, removed,replaced.\n",
    "* it can take sets and dict into list but not tuples\n",
    "\n"
   ]
  },
  {
   "cell_type": "code",
   "execution_count": 31,
   "metadata": {},
   "outputs": [
    {
     "name": "stdout",
     "output_type": "stream",
     "text": [
      "[]\n",
      "string:  ['hello']\n",
      "sets:  ['hello', {'ineuron'}]\n",
      "dict:  ['hello', {'ineuron'}, {'course': 'ineuron'}]\n",
      "tuple: ['hello', {'ineuron'}, {'course': 'ineuron'}, 'no prantehesis']\n"
     ]
    }
   ],
   "source": [
    "#ex\n",
    "list1=[]\n",
    "print(list1)\n",
    "list1.append(\"hello\")\n",
    "print(\"string: \",list1)\n",
    "my_set={\"ineuron\"}\n",
    "list1.append(my_set)\n",
    "print(\"sets: \",list1)\n",
    "my_dict={\"course\":\"ineuron\"}\n",
    "list1.append(my_dict)\n",
    "print(\"dict: \",list1)\n",
    "\n",
    "my_tup=('no prantehesis')\n",
    "list1.append(my_tup)\n",
    "print(\"tuple:\",list1)\n"
   ]
  },
  {
   "cell_type": "markdown",
   "metadata": {},
   "source": [
    "## 14. How do you type a tuple value that only contains the integer 42?\n",
    "my_tuple=(42)\n",
    "\n",
    "\n",
    "## 15. How do you get a list values tuple form? How do you get a tuple values list form?\n",
    "\n"
   ]
  },
  {
   "cell_type": "code",
   "execution_count": 32,
   "metadata": {},
   "outputs": [
    {
     "name": "stdout",
     "output_type": "stream",
     "text": [
      "list in Tuple form:  (1, 2, 3)\n",
      "tuple in list form:  [1, 2]\n"
     ]
    }
   ],
   "source": [
    "#list values tuple form\n",
    "listt=[1,2,3]\n",
    "form_tup=tuple(listt)\n",
    "print(\"list in Tuple form: \",form_tup)\n",
    "\n",
    "tup=(1,2)\n",
    "form_list=list(tup)\n",
    "print(\"tuple in list form: \",form_list)"
   ]
  },
  {
   "cell_type": "markdown",
   "metadata": {},
   "source": [
    "## 16. Variables that &quot;contain&quot; list values are not necessarily lists themselves. Instead, what do they contain?\n",
    "\n",
    "They contain references to the list values i:e memory address.\n",
    "\n",
    "## 17. How do you distinguish between copy.copy() and copy.deepcopy()?\n",
    "The copy.copy() function will do a shallow copy of a list, while the copy.deepcopy() function will do a deep copy of a list. i:e only copy.deepcopy() will duplicate any lists inside the list.\n",
    "\n"
   ]
  },
  {
   "cell_type": "code",
   "execution_count": null,
   "metadata": {},
   "outputs": [],
   "source": []
  }
 ],
 "metadata": {
  "kernelspec": {
   "display_name": "base",
   "language": "python",
   "name": "python3"
  },
  "language_info": {
   "codemirror_mode": {
    "name": "ipython",
    "version": 3
   },
   "file_extension": ".py",
   "mimetype": "text/x-python",
   "name": "python",
   "nbconvert_exporter": "python",
   "pygments_lexer": "ipython3",
   "version": "3.10.9"
  },
  "orig_nbformat": 4
 },
 "nbformat": 4,
 "nbformat_minor": 2
}
