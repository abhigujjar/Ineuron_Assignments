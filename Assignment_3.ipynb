{
 "cells": [
  {
   "cell_type": "markdown",
   "metadata": {},
   "source": [
    "## 1. Why are functions advantageous to have in your programs?\n",
    "\n",
    "# Usefullness: \n",
    "Functions allows to break the problem into small bits and modules which makes the problem organized,easier to decode. The code can be used for the similar problem statement which also saves time.\n",
    "# Abstract\n",
    "functions summarize the complex logic into single unit i:e the rest of the code doesnt need to know the internal part of the function. The functions allows to be organized logically.\n",
    "# Redability \n",
    "The fucntions make the code readable and easy to understand by providing the exact function names which gives meaning to the function ad operations they perform.\n",
    "# Debug \n",
    "When the functions is divided into smaller parts it is easy to identify the bugs by their names,which makes debugging more efficient and time saving,without changing the parameters of the whole code.\n",
    "# Efficiency \n",
    "Functions are optimized individually which makes the performance smooth and efficent, which are well defined and organized easy to update or change the specfic function as per the requirements.\n",
    "\n",
    "\n",
    "## 2. When does the code in a function run: when its specified or when its called?\n",
    "The fucntion doesnt run when the functions is specified.Functions should be called in order to run the code.\n",
    "Ex: \n",
    "\n"
   ]
  },
  {
   "cell_type": "code",
   "execution_count": null,
   "metadata": {},
   "outputs": [],
   "source": [
    "def addition(a,b): # Function definition\n",
    "    total=a+b      #Fucntion execution part when the function is called.\n",
    "    return total   #Return values after the execution\n",
    "\n",
    "\n",
    "add1=addition(5,6) #function call\n",
    "print(add1)        # function output"
   ]
  },
  {
   "cell_type": "markdown",
   "metadata": {},
   "source": [
    "## 3.What statement creates a function?\n",
    "Define statement creates a function\n",
    "\"def(parameters):\" \n",
    "Ex: Above addition function.\n",
    "\n",
    "## 4.What is the difference between a function and a function call?\n",
    "# Function \n",
    "It consists of define statement which is a block of code and executes it.\n",
    "# Function call \n",
    "It is when the function is called and executed,returns or gives the outout value.\n",
    "Ex: above addition function\n",
    "add1 is the assigned value for calling the function.\n",
    "\n",
    "## 5. How many global scopes are there in a Python program? How many local scopes?\n",
    "# Global Scope\n",
    "It is the variable defined outside the function where it can be accessed inside and outside of the function.\n",
    "# Local scope\n",
    "It is variable or a scope which is inside a function nd each define function can have its own local scope and it cant be called outside a function.\n",
    "Ex:\n"
   ]
  },
  {
   "cell_type": "code",
   "execution_count": null,
   "metadata": {},
   "outputs": [],
   "source": [
    "global_scope=5  #Global scope\n",
    "def scopes():\n",
    "    a=float(input(\"enter a number: \")) #local socpe\n",
    "    results=global_scope*a\n",
    "    return results\n"
   ]
  },
  {
   "cell_type": "markdown",
   "metadata": {},
   "source": [
    "## 6. What happens to variables in a local scope when the function call returns?\n",
    "The local scope is deleted after every iteration or everytime the function is called. it updates inside the function, as shown in above example\n",
    "\n",
    "## 7. What is the concept of a return value? Is it possible to have a return value in an expression?\n",
    "The concept of return is to get back an values after computaion if a function and output as result.\n",
    "Yes it is possible to have an return in an expression.\n",
    "Ex:"
   ]
  },
  {
   "cell_type": "code",
   "execution_count": null,
   "metadata": {},
   "outputs": [],
   "source": [
    "def multiply(a,b):\n",
    "    return a*b  #return the value in the expression\n"
   ]
  },
  {
   "cell_type": "markdown",
   "metadata": {},
   "source": [
    "## 8. If a function does not have a return statement, what is the return value of a call to that function? \n",
    "If there is no return statement in the define function, then it returns the value as None.\n",
    "\n",
    "## 9. How do you make a function variable refer to the global variable?\n",
    "It defining a variable outside the function and calling it by the expression \"global\", which takes the value inside the function and executes it.\n",
    "\n"
   ]
  },
  {
   "cell_type": "code",
   "execution_count": null,
   "metadata": {},
   "outputs": [],
   "source": [
    "x=10\n",
    "def global_var():\n",
    "    global x  # calling the value of x which is putside the function\n",
    "    return 5 + x "
   ]
  },
  {
   "cell_type": "markdown",
   "metadata": {},
   "source": [
    "## 10. What is the data type of None?\n",
    "The data type of None is NoneType,represents that there is no value.\n",
    "\n",
    "## 11. What does the sentence import areallyourpetsnamederic do?\n",
    "This imports a module called areallyourpetsnamederic (this is also a def funtion which runs in the backend )\n",
    "\n",
    "## 12.If you had a bacon() feature in a spam module, what would you call it after importing spam?\n",
    "    The function can be called by \n",
    "    spam.bacon()\n",
    "\n",
    "        or \n",
    "from spam import bacon \n",
    "        or \n",
    "\n",
    "    import spam \n",
    "    spam.bacon() \n",
    "\n",
    "## 13. What can you do to save a programme from crashing if it encounters an error?\n",
    "To prevent a code from crashing, 'try' and 'expect' block is used.\n",
    "\n",
    "## 14. What is the purpose of the try clause? What is the purpose of the except clause?\n",
    "# try clause\n",
    "It is used when code that might cause an error\n",
    "# expect clause\n",
    "It is used to hande a specific or other type of error, where the programmer can give a custom message."
   ]
  },
  {
   "cell_type": "code",
   "execution_count": null,
   "metadata": {},
   "outputs": [],
   "source": [
    "try:\n",
    "    result = 5 / 0  # This will raise a ZeroDivisionError\n",
    "except ZeroDivisionError:\n",
    "    print(\"Error: Division by zero, Please Check\")\n",
    "\n"
   ]
  }
 ],
 "metadata": {
  "language_info": {
   "name": "python"
  },
  "orig_nbformat": 4
 },
 "nbformat": 4,
 "nbformat_minor": 2
}
