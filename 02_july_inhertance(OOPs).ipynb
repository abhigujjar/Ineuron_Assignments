{
 "cells": [
  {
   "cell_type": "markdown",
   "metadata": {},
   "source": [
    "# 1. Explain what inheritance is in object-oriented programming and why it is used.\n",
    "Inhertance is the fundamental concept of OOPs that allows a class ot sub class to inherite properties like attributes methods from the another class called parent class or superclass . this enable the code to be used all along and creates an level.\n",
    "\n",
    "Heres why it is used: \n",
    "\n",
    "i) Polymorphism : OOPs is closely related to polymorphism, this allows different classes as a child class to a parent class.this eases to write a program that can run on difffferent obket types.\n",
    "\n",
    "ii) inhertance can make more code understandable and sensible by organizung the class in level or hierarchial order. changes made in the parent class can be inherted by all sub class, no need to change it throught the code again and again.\n",
    "\n",
    "iii) Easy to maintain as the class are in herrarchial order, everthing code has a characteristics.\n",
    "\n",
    "iv) This allows to resuse the attribute in a new class from a existing metthod. promotes the resue and reduces time as no need to define common parameters.\n",
    "\n"
   ]
  },
  {
   "cell_type": "code",
   "execution_count": 1,
   "metadata": {},
   "outputs": [
    {
     "name": "stdout",
     "output_type": "stream",
     "text": [
      "Name: Abhishek\n",
      "Job Profile: Data Scientist\n",
      "Skill set: Python, SQL\n",
      "Tools Known: VS code\n"
     ]
    }
   ],
   "source": [
    "class Person: # parent class or base class\n",
    "    \n",
    "    def __init__(self,name,profile,skill): # base class constructor\n",
    "          self.name=name # Attributes\n",
    "          self.profile=profile\n",
    "          self.skill=skill\n",
    "    \n",
    "    \n",
    "    def display(self):\n",
    "         pass\n",
    "    \n",
    "class Employee(Person): # child class inherting the parent class or base class\n",
    "    def __init__(self, name, profile, skill,tool): \n",
    "        self.tool=tool\n",
    "        super().__init__(name, profile, skill) # super() is method where it helps to inherit the attibutes from base class constructor\n",
    "\n",
    "    def display(self): #  method where all dettails are displayed\n",
    "         print(f\"Name: {self.name}\\nJob Profile: {self.profile}\\nSkill set: {self.skill}\\nTools Known: {self.tool}\")\n",
    "\n",
    "\n",
    "\n",
    "Person1=Employee(\"Abhishek\",\"Data Scientist\",\"Python, SQL\",\"VS code\")\n",
    "\n",
    "Person1.display() #  calling the method display\n",
    "     \n",
    "      "
   ]
  },
  {
   "cell_type": "markdown",
   "metadata": {},
   "source": [
    "##  2. Discuss the concept of single inheritance and multiple inheritance, highlighting their differences and advantages.\n",
    "\n",
    "# Single Heritance\n",
    "This is a type of heritance where the child class is in herited from a single parent class.(child having a single parent)\n",
    "\n",
    "Advantages:\n",
    "\n",
    "It is a linear heritance as there is single parent, making the code more readable nnd easy.\n",
    "\n",
    "As there is a single base class there will be no conflicts of attributesand methods.\n",
    "\n",
    "There is concept of Diamond Problem in single heritance is avoids it.\n",
    "\n",
    "Animal ==> Mammal ==> Humans,whales,Elephants # linear heritance \n",
    "one family with single child and types \n",
    "\n",
    "\n",
    "# Multiple Heritance\n",
    "\n",
    "This hertance takes properties from different parent classes. more than on esuperclass. (child having parents and inherting their properties)\n",
    "\n",
    "Advantage: \n",
    "\n",
    "This allows the code to be flexible and and no need define common parameters again.\n",
    "\n",
    "objects have complex, overlapping behaviors, multiple inheritance can help model these relationships more accurately.\n",
    "\n",
    "The diamond Problem: \n",
    "this occurs when a sub class is trying to inherit from multiple base class which leads to conflict btw attributes.\n",
    "\n",
    "Veg food ==> fruits and vegetables ==> tomato (Creates conflict as it considered as fruit and vegetable)\n",
    "\n"
   ]
  },
  {
   "cell_type": "markdown",
   "metadata": {},
   "source": [
    "# 3. Explain the terms \"base class\" and \"derived class\" in the context of inheritance.\n",
    "\n",
    "# Base class \n",
    "This also known as  parent class from which differnt classes or subclasses inherit the properties and behaviour.\n",
    "\n",
    "It is a blue print where subcclasses are derived and extended through it.\n",
    "\n",
    "These carry the common characteristics and attributes which are shared with all the sub classes and methods\n",
    "\n",
    "Ex : Grand Father DNA ==> Father ==> child DNA (Not an technical example just a common way to understand)\n",
    "\n",
    "child has inherted some common factors from grandfather and will extend\n",
    "\n",
    "# Derived Class\n",
    "\n",
    "This is nothing but the child class which has inherted the properties\n",
    "\n",
    "It extends it self in new attributes, they have their own attibuts and methods\n",
    "\n",
    "Ex: Grand Father Height= 150 ==> Father 152 ==> child 160 cm \n",
    "\n",
    "here the child has extended height charater but derived all the common characters from ancestor (Not an technical example just a common way to understand)"
   ]
  },
  {
   "cell_type": "markdown",
   "metadata": {},
   "source": [
    "# 4. What is the significance of the \"protected\" access modifier in inheritance? How does it differ from \"private\" and \"public\" modifiers?\n",
    "\n",
    "# Protected access modifiers:\n",
    "when the member of the class are declare protected which are only accessible to  class derived from it. \n",
    "\n",
    "when the  variable or method is starts with \"_\" is denotes that the varable or method is protected, this indicates that memebers outside the class should not access this code\n",
    "\n",
    "# Public modifiers\n",
    "\n",
    "These mmodifiers are accesible from anyhwere (within or outside module)\n",
    "\n",
    "they have no denotation\n",
    "\n",
    "but all the private modifiers are called through public modifiers.\n",
    "\n",
    "Both parent and child class are access is granted.\n",
    "\n",
    "example : The option displayed outside the wahing machine is a public access modifiers. User can modify it accordingly\n",
    "\n",
    "# Private modifiers\n",
    "\n",
    "These are not meant to be accesed directly from outside the class, for internal use only\n",
    "\n",
    "these members are inaccessible from child class\n",
    "\n",
    "Denoted by \"__\" Double underscore\n",
    " \n",
    " Example: After selection from the user the machine runs at sppech, water intake, interval of water intake and soaking time all are private which only machine can access it.\n",
    "\n",
    " "
   ]
  },
  {
   "cell_type": "code",
   "execution_count": 25,
   "metadata": {},
   "outputs": [
    {
     "name": "stdout",
     "output_type": "stream",
     "text": [
      "Name : Abhihsek \n",
      "Roll NO. : 1589 \n",
      "ID : AG 58954\n",
      "Division : Btech A\n"
     ]
    }
   ],
   "source": [
    "class Student: # parent class\n",
    "\n",
    "    def __init__(self,name,roll_number,std_ID):\n",
    "        self._name=name\n",
    "        self._roll_number=roll_number               # protected variable\n",
    "        self.__std_ID=std_ID                        # private variable\n",
    "\n",
    "    def _display(self): # protected method\n",
    "        print(f\"Name : {self._name} \\nRoll NO. : {self._roll_number} \\nID : {self.__std_ID}\")\n",
    "\n",
    "class Division(Student): # child class\n",
    "\n",
    "    def __init__(self, name, roll_number, std_ID,division): # constructor inheriting parent class + division\n",
    "        \n",
    "        super().__init__(name, roll_number, std_ID)\n",
    "        self.division=division # public  attribute\n",
    "\n",
    "    def display(self):\n",
    "        self._display() # calling a private method through public method\n",
    "        print(f\"Division : {self.division}\")\n",
    "    \n",
    "\n",
    "\n",
    "Student1=Division(\"Abhihsek\",1589,\"AG 58954\",\"Btech A\")\n",
    "\n",
    "Student1.display()\n",
    "\n",
    "    "
   ]
  },
  {
   "cell_type": "markdown",
   "metadata": {},
   "source": [
    "# 5. What is the purpose of the \"super\" keyword in inheritance? Provide an example.\n",
    "\n",
    "Super keyword is used to call the method or attributes from the parent class within a child class.\n",
    "\n",
    "It allows to activate or use the parent class constructor or method."
   ]
  },
  {
   "cell_type": "code",
   "execution_count": 31,
   "metadata": {},
   "outputs": [
    {
     "name": "stdout",
     "output_type": "stream",
     "text": [
      "Hello\n",
      " My name is Abhishek G\n"
     ]
    }
   ],
   "source": [
    "# super \n",
    "\n",
    "class person: # parent class\n",
    "\n",
    "    def __init__(self,name): # parent class construtor\n",
    "        self.name=name # parent attribute public\n",
    "\n",
    "    def _info(self):\n",
    "        print(\"Hello\")\n",
    "\n",
    "class child(person): # child class\n",
    "     # child constructor\n",
    "    def __init__(self,name,Lastname):\n",
    "        self.Lastname=Lastname # child class constructor attribute\n",
    "        super().__init__(name) # accessing the parent class construct atrribute name by super()\n",
    "\n",
    "    def info(self): # public method calling information \n",
    "        self._info() # calling pricvaee method through public method\n",
    "        print(f\" My name is {self.name} {self.Lastname}\")\n",
    "\n",
    "\n",
    "child1=child(\"Abhishek\",\"G\")\n",
    "child1.info()"
   ]
  },
  {
   "cell_type": "markdown",
   "metadata": {},
   "source": [
    "# 6. Create a base class called \"Vehicle\" with attributes like \"make\", \"model\", and \"year\". Then, create a derived class called \"Car\" that inherits from \"Vehicle\" and adds an attribute called \"fuel_type\". Implement appropriate methods in both classes."
   ]
  },
  {
   "cell_type": "code",
   "execution_count": 51,
   "metadata": {},
   "outputs": [
    {
     "name": "stdout",
     "output_type": "stream",
     "text": [
      "Welcome to the Showroom\n",
      "Thank you for choosing EV. Futuristic choice! 🚙\n",
      "Manufacture : BMW \n",
      "Model: X1 \n",
      "Year: 2023 \n",
      "Fuel Type: ev\n",
      " \n",
      " \n",
      "Welcome to the Showroom\n",
      "Manufacture : Tata \n",
      "Model: Nexon \n",
      "Year: 2023 \n",
      "Fuel Type: Petrol\n",
      " \n",
      " \n",
      "Welcome to the Showroom\n",
      "Thank you for choosing hybrid model.One step closer to protecting Earth\n",
      "Manufacture : Morris Garage \n",
      "Model: Hector \n",
      "Year: 2023 \n",
      "Fuel Type: hybrid\n"
     ]
    }
   ],
   "source": [
    "class Vehicle: # base class\n",
    "\n",
    "    def __init__(self,make,model,year): # base class constructor\n",
    "        self.make=make # public base class attributes\n",
    "        self.model=model\n",
    "        self.year=year\n",
    "\n",
    "    def info(self):\n",
    "        pass\n",
    "\n",
    "class Car(Vehicle): # child class inherting the base class\n",
    "    def __init__(self, make, model, year,fuel_type): # child class constructor inheriting base class + Fuel type\n",
    "        super().__init__(make, model, year) # calling the base class attribute with super()\n",
    "        self.fuel_type=fuel_type\n",
    "\n",
    "    def info(self): # info  method \n",
    "        super().info() \n",
    "        print(\"Welcome to the Showroom\")\n",
    "        if self.fuel_type.lower()==\"hybrid\":\n",
    "            print(f\"Thank you for choosing {self.fuel_type} model.One step closer to protecting Earth\")\n",
    "        elif self.fuel_type.lower()==\"electric\" or self.fuel_type.lower()==\"ev\":\n",
    "            print(f\"Thank you for choosing {self.fuel_type.upper()}. Futuristic choice! \\U0001F699\")\n",
    "\n",
    "        print(f\"Manufacture : { self.make} \\nModel: {self.model} \\nYear: {self.year} \\nFuel Type: {self.fuel_type}\")\n",
    "\n",
    "car1=Car(\"BMW\",\"X1\",2023,\"ev\")\n",
    "car2=Car(\"Tata\",\"Nexon\",2023,\"Petrol\")\n",
    "car3=Car(\"Morris Garage\",\"Hector\",2023,\"hybrid\")\n",
    "car1.info()\n",
    "print(\" \\n \") \n",
    "car2.info()\n",
    "print(\" \\n \") \n",
    "car3.info()"
   ]
  },
  {
   "cell_type": "markdown",
   "metadata": {},
   "source": [
    "# 7. Create a base class called \"Employee\" with attributes like \"name\" and \"salary.\" Derive two classes, \"Manager\" and \"Developer,\" from \"Employee.\" Add an additional attribute called \"department\" for the \"Manager\" class and \"programming_language\" for the \"Developer\" class."
   ]
  },
  {
   "cell_type": "code",
   "execution_count": 69,
   "metadata": {},
   "outputs": [],
   "source": [
    "class Employee: # Parent class \n",
    "    def __init__(self,name,salary): # constructor with attributes\n",
    "          self.name=name\n",
    "          self._salary=salary # Protected modifier\n",
    "\n",
    "    def _display_info(self):  # Protected method\n",
    "         print(f\"Salary: INR {self._salary}\")\n",
    "         \n",
    "    \n",
    "\n",
    "class Manager(Employee): # child class inherting from Employee base class 1st child class\n",
    "     def __init__(self, name, salary,department):  # child constructor inheriting name and salary attribute\n",
    "          super().__init__(name, salary) # with help of super( ) parameter\n",
    "          self.department=department\n",
    "          \n",
    "    \n",
    "    \n",
    "     def display_info(self): # public method \n",
    "          print(f\"Name: {self.name}\\nDepartment: {self.department}\")\n",
    "          super()._display_info() # calling protected method through public method\n",
    "\n",
    "class Developer(Employee): # 2nd child class\n",
    "    def __init__(self, name,salary,Programming_lang): # child constructor inheriting name and salary attribute + it own attribute programming language\n",
    "        super().__init__(name,salary) # inhertance\n",
    "        self.programming_lang=Programming_lang \n",
    "\n",
    "    def display_info(self): # public method\n",
    "         print(f\"Name : {self.name} \\nTool: {self.programming_lang}\")\n",
    "         super()._display_info() # calling protected method through public method\n",
    "       \n",
    "\n",
    "     \n",
    "     "
   ]
  },
  {
   "cell_type": "code",
   "execution_count": 70,
   "metadata": {},
   "outputs": [
    {
     "name": "stdout",
     "output_type": "stream",
     "text": [
      "** Manager child class: **\n",
      "Name: Abhishek\n",
      "Department: HR\n",
      "Salary: INR 50000\n"
     ]
    }
   ],
   "source": [
    "\n",
    "manager1=Manager(\"Abhishek\",50000,\"HR\")\n",
    "print(\"** Manager child class: **\")\n",
    "manager1.display_info()"
   ]
  },
  {
   "cell_type": "code",
   "execution_count": 71,
   "metadata": {},
   "outputs": [
    {
     "name": "stdout",
     "output_type": "stream",
     "text": [
      "Name : Rahul \n",
      "Tool: SQL , Python\n",
      "Salary: INR 40000\n"
     ]
    }
   ],
   "source": [
    "developer1=Developer(\"Rahul\",40000,\"SQL , Python\")\n",
    "developer1.display_info()"
   ]
  },
  {
   "cell_type": "markdown",
   "metadata": {},
   "source": [
    "# 8. Design a base class called \"Shape\" with attributes like \"colour\" and \"border_width.\"Create derived classes, \"Rectangle\" and \"Circle,\" that inherit from \"Shape\" and add specific attributes like \"length\" and \"width\" for the \"Rectangle\" class and \"radius\" for the \"Circle\" class."
   ]
  },
  {
   "cell_type": "code",
   "execution_count": 88,
   "metadata": {},
   "outputs": [],
   "source": [
    "class Shape: # Parent class\n",
    "    # constructor with attributes\n",
    "    def __init__(self,color,border):\n",
    "        self.color=color # attributes\n",
    "        self.border=border\n",
    "\n",
    "\n",
    "    def info(self): # an common method which will be inherited by child class\n",
    "        print(f\"The color: {self.color} \\nBorder: {self.border}\")\n",
    "\n",
    "class Rectangle(Shape): # 1st child class\n",
    "\n",
    "    def __init__(self, color, border,length,width): # child's constructor which will inherit attributes from base class + lenght and width\n",
    "        super().__init__(color, border) # to inherit the attributes supper parameter\n",
    "        self.lenght=length\n",
    "        self.width=width\n",
    "\n",
    "    def area(self): # method of child to calculate the area\n",
    "        area= self.lenght * self.width\n",
    "        print(f\"The area for Rectangle is : {area} sq.cm\")\n",
    "        \n",
    "\n",
    "    def info(self): # inheriting the method from baseclass\n",
    "        super().info() # inheriting a method from parent\n",
    "        self.area() # calling method inside the child class\n",
    "        print(f\"Lenght: {self.lenght} cm \\nWidth : {self.width} cm \")\n",
    "\n",
    "class Circle(Shape):\n",
    "\n",
    "    def __init__(self, color, border,radius): # child's constructor which will inherit attributes from base class + radius \n",
    "        super().__init__(color, border) # to inherit the attributes supper parameter\n",
    "        self.radius=radius\n",
    "\n",
    "    def area(self):\n",
    "        area= 3.142 * self.radius\n",
    "        print(f\"The area of Circle : {area} sq.cm\")\n",
    "\n",
    "    def info(self): # inheriting the method from baseclass\n",
    "        super().info() # inheriting a method from parent\n",
    "        self.area() # calling method inside the child class\n",
    "        print(f\"Radius of the circle : {self.radius} cm\")\n"
   ]
  },
  {
   "cell_type": "code",
   "execution_count": 89,
   "metadata": {},
   "outputs": [
    {
     "name": "stdout",
     "output_type": "stream",
     "text": [
      "The color: Red \n",
      "Border: 25\n",
      "The area for Rectangle is : 25 sq.cm\n",
      "Lenght: 5 cm \n",
      "Width : 5 cm \n"
     ]
    }
   ],
   "source": [
    "rtriangle=Rectangle(\"Red\",25,5,5)\n",
    "rtriangle.info()"
   ]
  },
  {
   "cell_type": "code",
   "execution_count": 90,
   "metadata": {},
   "outputs": [
    {
     "name": "stdout",
     "output_type": "stream",
     "text": [
      "The color: Blue \n",
      "Border: 25\n",
      "The area of Circle : 15.709999999999999 sq.cm\n",
      "Radius of the circle : 5 cm\n"
     ]
    }
   ],
   "source": [
    "circle1=Circle(\"Blue\",25,5)\n",
    "circle1.info()"
   ]
  },
  {
   "cell_type": "markdown",
   "metadata": {},
   "source": [
    "# 9. Create a base class called \"Device\" with attributes like \"brand\" and \"model.\" Derive two classes, \"Phone\" and \"Tablet,\" from \"Device.\" Add specific attributes like \"screen_size\" for the \"Phone\" class and \"battery_capacity\" for the \"Tablet\" class."
   ]
  },
  {
   "cell_type": "code",
   "execution_count": 106,
   "metadata": {},
   "outputs": [],
   "source": [
    "class Device:\n",
    "    \n",
    "    def __init__(self,brand,model,price):\n",
    "        self.brand=brand\n",
    "        self.model=model\n",
    "        self.price=price\n",
    "\n",
    "    def discout(self):\n",
    "        \n",
    "        discount= self.price - self.price*0.2\n",
    "        print(f\"Hooray! \\U0001F389 you got a discount of 20 % \\nDiscounted price :INR {discount}\")\n",
    "\n",
    "    def display_info(self):\n",
    "        print(f\"Brand :{self.brand}\\nModel : {self.model}\")\n",
    "        #self.discout()\n",
    "\n",
    "class Phone(Device):\n",
    "\n",
    "    def __init__(self, brand, model, price,RAM,screen):\n",
    "        super().__init__(brand, model, price)\n",
    "        self.RAM=RAM\n",
    "        self.screen=screen\n",
    "\n",
    "    def diplay_info(self):\n",
    "        super().display_info()\n",
    "        print(f\"RAM capacity : {self.RAM} GB \") \n",
    "        print(f\"Screen Size : {self.screen} inch\")\n",
    "        super().discout()\n",
    "        \n",
    "\n",
    "class Tablet(Device):\n",
    "\n",
    "    def __init__(self, brand, model, price,battery_capacity):\n",
    "        super().__init__(brand, model, price)\n",
    "        self.battery_capacity=battery_capacity\n",
    "\n",
    "    def display_info(self):\n",
    "        super().display_info()\n",
    "        print(f\"Battery Capacity : {self.battery_capacity} mAh\")\n",
    "    "
   ]
  },
  {
   "cell_type": "code",
   "execution_count": 107,
   "metadata": {},
   "outputs": [
    {
     "name": "stdout",
     "output_type": "stream",
     "text": [
      "Displaying info about Phone\n",
      "\n",
      "Brand :Apple\n",
      "Model : iPhone 14 PRO\n"
     ]
    }
   ],
   "source": [
    "phone1=Phone(\"Apple\",\"iPhone 14 PRO\",70000,8,\"6.5\")\n",
    "print(\"Displaying info about Phone\\n\")\n",
    "phone1.display_info()"
   ]
  },
  {
   "cell_type": "code",
   "execution_count": 119,
   "metadata": {},
   "outputs": [],
   "source": [
    "class Device: # Base class\n",
    "    # base class constructor attributes added an attribute called price\n",
    "    def __init__(self,brand,model,price):\n",
    "        self.brand=brand\n",
    "        self.model=model\n",
    "        self.price=price\n",
    "\n",
    "    def discout(self): # method to calculate the discount\n",
    "        discount= self.price - self.price*0.2\n",
    "        print(f\"Hooray! \\U0001F389 you got a discount of 20 % \\nDiscounted price :INR {discount}\")\n",
    "\n",
    "    def display_info(self): # method to display the deatils \n",
    "        print(f\"Brand :{self.brand}\\nModel : {self.model}\")\n",
    "        self.discout()\n",
    "\n",
    "class Phone(Device): # 1st child class\n",
    "\n",
    "    def __init__(self, brand, model, price,RAM,screen): # inherting base class attributes + RAM and screen size\n",
    "        super().__init__(brand, model, price)\n",
    "        self.RAM=RAM\n",
    "        self.screen=screen\n",
    "\n",
    "    def display_info(self): # display method\n",
    "        super().display_info() # inheriting the method\n",
    "        print(f\"RAM capacity : {self.RAM} GB \")\n",
    "        print(f\"Screen Size : {self.screen} inch\")\n",
    "        # super().discout() this method can be called here instead of calling it again i  have called it once in the parent class as it is the common method\n",
    "        \n",
    "\n",
    "class Tablet(Device): #2nd child classs\n",
    "\n",
    "    def __init__(self, brand, model, price,battery_capacity):\n",
    "        super().__init__(brand, model, price)\n",
    "        self.battery_capacity=battery_capacity\n",
    "\n",
    "    def display_info(self):\n",
    "        super().display_info()\n",
    "        print(f\"Battery Capacity : {self.battery_capacity} mAh\")\n",
    "        #super().discout()\n",
    "    "
   ]
  },
  {
   "cell_type": "code",
   "execution_count": 122,
   "metadata": {},
   "outputs": [
    {
     "name": "stdout",
     "output_type": "stream",
     "text": [
      "Displaying info about Phone\n",
      "\n",
      "Brand :Apple\n",
      "Model : iPhone 14 PRO\n",
      "RAM capacity : 8 GB \n",
      "Screen Size : 6.5 inch\n",
      "Hooray! 🎉 you got a discount of 20 % \n",
      "Discounted price :INR 56000.0\n"
     ]
    }
   ],
   "source": [
    "phone2=Phone(\"Apple\",\"iPhone 14 PRO\",70000,8,\"6.5\")\n",
    "print(\"Displaying info about Phone\\n\")\n",
    "phone2.display_info()"
   ]
  },
  {
   "cell_type": "code",
   "execution_count": 123,
   "metadata": {},
   "outputs": [
    {
     "name": "stdout",
     "output_type": "stream",
     "text": [
      "Brand :Samsung\n",
      "Model : Tablet\n",
      "Battery Capacity : 6000 mAh\n",
      "Hooray! 🎉 you got a discount of 20 % \n",
      "Discounted price :INR 80000.0\n"
     ]
    }
   ],
   "source": [
    "tab=Tablet(\"Samsung\",\"Tablet\",100000,6000)\n",
    "\n",
    "tab.display_info()"
   ]
  },
  {
   "cell_type": "markdown",
   "metadata": {},
   "source": [
    "# # 10. Create a base class called \"BankAccount\" with attributes like \"account_number\" and \"balance.\" Derive two classes, \"SavingsAccount\" and \"CheckingAccount,\" from \"BankAccount.\" Add specific methods like \"calculate_interest\" for the \"SavingsAccount\" class and \"deduct_fees\" for the \"CheckingAccount\" class."
   ]
  },
  {
   "cell_type": "code",
   "execution_count": 164,
   "metadata": {},
   "outputs": [],
   "source": [
    "class BankAccount: # base class\n",
    "\n",
    "\n",
    "    def __init__(self,name,acount_number,balance): # base clas constructior with attributes\n",
    "        self.account_number=acount_number\n",
    "        self.name=name\n",
    "        self.balance=balance\n",
    "\n",
    "    def min_balance(self): # parent class method\n",
    "        min_bal=1000\n",
    "        if self.balance<= min_bal: # checking cindition for min balance\n",
    "            print(f\"Balance to low please add {min_bal- self.balance} to avoid charges\")\n",
    "\n",
    "    def display(self): # display details method\n",
    "        print(\"Welcome to XYZ Bank\")\n",
    "        self.min_balance()\n",
    "        print(f\"Account holder Name : {self.name} \\nAccount number : {self.account_number}\\nBalance :INR {self.balance}\")\n",
    "\n",
    "    \n",
    "class SavingAccount(BankAccount): # 1st child class\n",
    "\n",
    "    def __init__(self, name, acount_number, balance): #  inheriting attributes from parent class\n",
    "        super().__init__(name, acount_number, balance)\n",
    "\n",
    "    \n",
    "\n",
    "    def interest(self): # calculating interest method\n",
    "        simple=self.balance*0.04\n",
    "        print(f\"Interest rate 4 % : INR {simple} for the current year\")\n",
    "        print(f\"Balance after interest :  INR {simple+self.balance}\") \n",
    "\n",
    "    def display(self):\n",
    "        super().display() # inheriting parent class method to display details with super()\n",
    "        self.interest() # calling inside the child class method so self.method_name\n",
    "\n",
    "\n",
    "class CheckingAccount(BankAccount): # 2nd child class\n",
    "    # child class constructor inheriting attribiutes of parent + transaction\n",
    "    def __init__(self, name, acount_number, balance,transaction): \n",
    "        super().__init__(name, acount_number, balance)\n",
    "        self.transaction=transaction\n",
    "\n",
    "    def fees(self): # calculating transaction fees 1 % of the transaction amount\n",
    "        deduct= self.transaction*0.001\n",
    "        print(f\"Transaction rate 1 % : INR {deduct} \")\n",
    "\n",
    "        if self.transaction<self.balance: # condition if trasaction less than balance \n",
    "            print(f\"Transaction Successful ! Updated Balance : INR {self.balance-self.transaction-deduct} \")\n",
    "        else: # if less htan balance, it should not create any error \n",
    "            print(f\" Balance low. Transaction of amount {self.transaction} cancelled! \")\n",
    "        \n",
    "\n",
    "    def display(self):\n",
    "        super().display() # inheriting parent class method to display details with super()\n",
    "        self.fees() # calling inside the child class method so self.method_name"
   ]
  },
  {
   "cell_type": "code",
   "execution_count": 165,
   "metadata": {},
   "outputs": [
    {
     "name": "stdout",
     "output_type": "stream",
     "text": [
      "Welcome to XYZ Bank\n",
      "Account holder Name : Abhishek \n",
      "Account number : SBI1256385\n",
      "Balance :INR 40000\n",
      "Interest rate 4 % : INR 1600.0 for the current year\n",
      "Balance after interest :  INR 41600.0\n"
     ]
    }
   ],
   "source": [
    "bank1=SavingAccount(\"Abhishek\",\"SBI1256385\",40000)\n",
    "bank1.display()"
   ]
  },
  {
   "cell_type": "code",
   "execution_count": 166,
   "metadata": {},
   "outputs": [
    {
     "name": "stdout",
     "output_type": "stream",
     "text": [
      "Welcome to XYZ Bank\n",
      "Balance to low please add 600 to avoid charges\n",
      "Account holder Name : Abhishek \n",
      "Account number : SBI1256385\n",
      "Balance :INR 400\n",
      "Interest rate 4 % : INR 16.0 for the current year\n",
      "Balance after interest :  INR 416.0\n"
     ]
    }
   ],
   "source": [
    "bank2=SavingAccount(\"Abhishek\",\"SBI1256385\",400)\n",
    "bank2.display()"
   ]
  },
  {
   "cell_type": "code",
   "execution_count": 167,
   "metadata": {},
   "outputs": [
    {
     "name": "stdout",
     "output_type": "stream",
     "text": [
      "Welcome to XYZ Bank\n",
      "Account holder Name : Akshay \n",
      "Account number : BKI458593\n",
      "Balance :INR 40000\n",
      "Transaction rate 1 % : INR 50.0 \n",
      " Balance low. Transaction of amount 50000 cancelled! \n"
     ]
    }
   ],
   "source": [
    "check1=CheckingAccount(\"Akshay\",\"BKI458593\",40000,50000)\n",
    "check1.display()"
   ]
  },
  {
   "cell_type": "code",
   "execution_count": 162,
   "metadata": {},
   "outputs": [
    {
     "name": "stdout",
     "output_type": "stream",
     "text": [
      "Welcome to XYZ Bank\n",
      "Account holder Name : Sachin \n",
      "Account number : BGI4548593\n",
      "Balance :INR 40000\n",
      "Transaction rate 1 % : INR 5.0 \n",
      "Transaction Successful ! Updated Balance : INR 34995.0 \n"
     ]
    }
   ],
   "source": [
    "check2=CheckingAccount(\"Sachin\",\"BGI4548593\",40000,5000)\n",
    "check2.display()"
   ]
  },
  {
   "cell_type": "code",
   "execution_count": null,
   "metadata": {},
   "outputs": [],
   "source": []
  }
 ],
 "metadata": {
  "kernelspec": {
   "display_name": "base",
   "language": "python",
   "name": "python3"
  },
  "language_info": {
   "codemirror_mode": {
    "name": "ipython",
    "version": 3
   },
   "file_extension": ".py",
   "mimetype": "text/x-python",
   "name": "python",
   "nbconvert_exporter": "python",
   "pygments_lexer": "ipython3",
   "version": "3.10.9"
  },
  "orig_nbformat": 4
 },
 "nbformat": 4,
 "nbformat_minor": 2
}
